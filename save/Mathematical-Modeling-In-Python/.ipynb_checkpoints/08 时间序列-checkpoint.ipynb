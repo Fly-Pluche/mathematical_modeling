{
 "cells": [
  {
   "cell_type": "code",
   "execution_count": null,
   "metadata": {},
   "outputs": [],
   "source": [
    "# 时间序列\n",
    "# 1.1 移动平均法(168页): 只适合做近期预测, 而且要求预测目标发展趋势变化不大.\n",
    "#     当预测目标基本趋势是在某一水平上下波动时, 可以用一次移动平均法.\n",
    "#     当预测目标基本趋势与某一线性模型吻合时, 可以用二次移动平均法.\n",
    "# 1.2 指数平滑法(169页): 一般有一,二,三次指数平滑法\n",
    "#     \n"
   ]
  }
 ],
 "metadata": {
  "kernelspec": {
   "display_name": "Python 3",
   "language": "python",
   "name": "python3"
  },
  "language_info": {
   "codemirror_mode": {
    "name": "ipython",
    "version": 3
   },
   "file_extension": ".py",
   "mimetype": "text/x-python",
   "name": "python",
   "nbconvert_exporter": "python",
   "pygments_lexer": "ipython3",
   "version": "3.7.4"
  }
 },
 "nbformat": 4,
 "nbformat_minor": 4
}
