{
 "cells": [
  {
   "cell_type": "markdown",
   "metadata": {},
   "source": [
    "# 差分方程"
   ]
  },
  {
   "cell_type": "code",
   "execution_count": 6,
   "metadata": {},
   "outputs": [],
   "source": [
    "# 作n阶差分折线图\n",
    "import matplotlib.pyplot as plt\n",
    "\n",
    "def diff_plot(y, n):\n",
    "    if y.shape[0] < n:\n",
    "        print('Error')\n",
    "        return\n",
    "    for i in range(n):\n",
    "        y = np.array([y[i]-y[i-1] if i != 0 else y[0] for i in range(y.shape[0])])\n",
    "    plt.figure()\n",
    "    plt.ylim(y.mean()-(y.max()-y.min())*3, (y.max()-y.min())*3+y.max())\n",
    "    plt.plot(np.linspace(0, y.shape[0]-1, y.shape[0]), y)\n",
    "    plt.title('{} Order Difference of Data'.format(n))\n",
    "    plt.show()"
   ]
  },
  {
   "cell_type": "code",
   "execution_count": 7,
   "metadata": {},
   "outputs": [
    {
     "data": {
      "image/png": "[encoded data removed]",
      "text/plain": [
       "<Figure size 432x288 with 1 Axes>"
      ]
     },
     "metadata": {
      "needs_background": "light"
     },
     "output_type": "display_data"
    },
    {
     "name": "stdout",
     "output_type": "stream",
     "text": [
      "[0.87372336 0.19410722 0.69574517]\n",
      "[11.         16.         25.         12.         12.         18.\n",
      " 26.         14.         13.         20.         27.         15.\n",
      " 15.         24.         30.         15.         16.         25.\n",
      " 32.         17.         17.5869272  34.47810922 19.16756978 23.65432962\n",
      " 13.72045164 18.39588258 25.20206786 16.07232878 13.31560489 19.52848113]\n"
     ]
    }
   ],
   "source": [
    "# 例15.6\n",
    "\n",
    "import numpy as np\n",
    "\n",
    "y0 = np.array([11, 16, 25, 12, 12, 18, 26, 14, 13, 20, 27, 15, 15, 24, 30, 15, 16, 25, 32, 17])\n",
    "diff_plot(y0, 1)\n",
    "y = y0[8: 20]\n",
    "x = np.array([y0[4:16], y0[0:12], np.ones(12)]).T\n",
    "z = np.matmul(np.linalg.inv(np.matmul(x.T, x)), np.matmul(x.T, y))\n",
    "print(z)\n",
    "\n",
    "pred_y = y0.copy()\n",
    "for i in range(10):\n",
    "    pred_y = np.r_[pred_y, [z[0] * pred_y[i-4] + z[1] * pred_y[i-8] + z[2]]]\n",
    "    \n",
    "print(pred_y)"
   ]
  }
 ],
 "metadata": {
  "kernelspec": {
   "display_name": "Python 3",
   "language": "python",
   "name": "python3"
  },
  "language_info": {
   "codemirror_mode": {
    "name": "ipython",
    "version": 3
   },
   "file_extension": ".py",
   "mimetype": "text/x-python",
   "name": "python",
   "nbconvert_exporter": "python",
   "pygments_lexer": "ipython3",
   "version": "3.7.7"
  }
 },
 "nbformat": 4,
 "nbformat_minor": 4
}
