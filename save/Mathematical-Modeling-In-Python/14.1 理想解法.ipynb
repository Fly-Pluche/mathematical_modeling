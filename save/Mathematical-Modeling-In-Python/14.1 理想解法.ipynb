{
 "cells": [
  {
   "cell_type": "markdown",
   "metadata": {},
   "source": [
    "# 理想解法\n",
    "\n",
    "- 多属性决策方案集: $D=\\{d_1,d_2,\\cdots,d_m\\}$\n",
    "- 衡量方案优劣的属性变量: $x_1,x_2,\\cdots,x_n$\n",
    "- 每个方案属性向量: $[a_{i1},a_{i2},\\cdots,a_{in}]$\n",
    "- 正理想解$C^*$, 负理想解$C^0$\n",
    "- 方案集中最优方案: 靠近正理想解又远离负理想解.\n",
    "\n",
    "- TOPSIS法算法步骤在370页"
   ]
  }
 ],
 "metadata": {
  "kernelspec": {
   "display_name": "Python 3",
   "language": "python",
   "name": "python3"
  },
  "language_info": {
   "codemirror_mode": {
    "name": "ipython",
    "version": 3
   },
   "file_extension": ".py",
   "mimetype": "text/x-python",
   "name": "python",
   "nbconvert_exporter": "python",
   "pygments_lexer": "ipython3",
   "version": "3.7.7"
  }
 },
 "nbformat": 4,
 "nbformat_minor": 4
}
