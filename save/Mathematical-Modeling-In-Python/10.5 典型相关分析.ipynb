{
 "cells": [
  {
   "cell_type": "markdown",
   "metadata": {},
   "source": [
    "# 典型相关分析(Canonical Correlation Analysis，简称CCA)\n",
    "[分析](https://blog.csdn.net/jum_summer/article/details/80963192)  \n",
    "https://zhuanlan.zhihu.com/p/52110862  \n",
    "https://www.cntofu.com/book/85/ml/associative/cca.md  \n",
    "[算法步骤](https://jingyan.baidu.com/article/a501d80c33009fec630f5e11.html)  \n",
    "\n",
    "- 典型相关系数检验: 书273页 10.5.4\n",
    "- CCA把高维数据降到一维,再用相关系数来分析.\n",
    "- 降维的原则是: 降到一维后,两组数据相关系数最大.\n"
   ]
  }
 ],
 "metadata": {
  "kernelspec": {
   "display_name": "Python 3",
   "language": "python",
   "name": "python3"
  },
  "language_info": {
   "codemirror_mode": {
    "name": "ipython",
    "version": 3
   },
   "file_extension": ".py",
   "mimetype": "text/x-python",
   "name": "python",
   "nbconvert_exporter": "python",
   "pygments_lexer": "ipython3",
   "version": "3.7.7"
  }
 },
 "nbformat": 4,
 "nbformat_minor": 4
}
