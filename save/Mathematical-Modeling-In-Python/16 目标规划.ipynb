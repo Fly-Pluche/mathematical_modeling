{
 "cells": [
  {
   "cell_type": "markdown",
   "metadata": {},
   "source": [
    "# 目标规划\n",
    "\n",
    "**基本上分为两种思路: 加权系数法(转化为单一目标), 优先等级法(按重要程度不同, 转化为单目标模型)**\n",
    "\n",
    "正负偏差变量: $d_i^+=max\\{f_i-d_i^0,0\\},\\ d_i^-=-min\\{f_i-d_i^0,0\\}$, 显然恒有$d_i^+\\times d_i^-=0$"
   ]
  },
  {
   "cell_type": "code",
   "execution_count": null,
   "metadata": {},
   "outputs": [],
   "source": [
    "# 例16.3\n",
    "# 该题的规划模型如下:\n",
    "# min z =P[0]*dminus[0] + P[1]*(dplus[1]+dminus[1]) + P[2]*(3 * (dplus[2]+dminus[2]) + dplus[3])\n",
    "#     2*x[0] + 2*x[1] <= 12\n",
    "#     200*x[0] + 300*x[1] + dminus[0] - dplus[0] = 1500\n",
    "#     2*x[0] - x[1] + dminus[1] - dplus[1] = 0\n",
    "#     4*x[0] + dminus[2] - dplus[2] = 16\n",
    "#     5*x[1] + dminus[3] - dplus[3] = 15\n",
    "#     x[0], x[1], dminus[i], dplus[i] >= 0, i = 0, 1, 2, 3\n",
    "\n"
   ]
  }
 ],
 "metadata": {
  "kernelspec": {
   "display_name": "Python 3",
   "language": "python",
   "name": "python3"
  },
  "language_info": {
   "codemirror_mode": {
    "name": "ipython",
    "version": 3
   },
   "file_extension": ".py",
   "mimetype": "text/x-python",
   "name": "python",
   "nbconvert_exporter": "python",
   "pygments_lexer": "ipython3",
   "version": "3.7.7"
  }
 },
 "nbformat": 4,
 "nbformat_minor": 4
}
