{
 "cells": [
  {
   "cell_type": "code",
   "execution_count": 1,
   "metadata": {},
   "outputs": [],
   "source": [
    "import pandas as pd\n",
    "import numpy as np\n",
    "import matplotlib.pyplot as plt\n",
    "from sklearn.linear_model import LinearRegression"
   ]
  },
  {
   "cell_type": "code",
   "execution_count": 2,
   "metadata": {},
   "outputs": [],
   "source": [
    "plt.rcParams['font.family'] = ['sans-serif'] #显示中文标签\n",
    "plt.rcParams['font.sans-serif']=['SimHei'] \n",
    "plt.rcParams['axes.unicode_minus']=False"
   ]
  },
  {
   "cell_type": "code",
   "execution_count": 3,
   "metadata": {},
   "outputs": [],
   "source": [
    "x0 = np.array([174,179,183,189,207,234,220.5,256,270,285])\n",
    "year = np.array(np.arange(1995,2005))"
   ]
  },
  {
   "cell_type": "code",
   "execution_count": 111,
   "metadata": {},
   "outputs": [],
   "source": [
    "class GrayPre:\n",
    "    def __init__(self,xdata,ydata):\n",
    "        self.xdata = xdata\n",
    "        self.ydata = ydata\n",
    "        self.n = len(ydata)\n",
    "        if self.xdata.shape[0] > 1:\n",
    "            self.xdata = self.xdata.reshape(-1,1)\n",
    "        if self.ydata.shape[0] > 1:\n",
    "            self.ydata = self.ydata.reshape(-1,1)\n",
    "\n",
    "        if True in self.ydata < 0:\n",
    "            print('不能有负数')\n",
    "        print('原始数据长度：%s' % self.n)\n",
    "        if self.n <= 3:\n",
    "            print('数据量太小')\n",
    "        elif self.n > 10:\n",
    "            print('可以考虑使用其他方法进行预测')\n",
    "    \n",
    "    def gplot(self,gxlabel,gylabel):\n",
    "        plt.plot(self.xdata,self.ydata, marker='o', markerfacecolor='none')\n",
    "        plt.grid()\n",
    "        plt.xlabel(gxlabel)\n",
    "        plt.ylabel(gylabel)\n",
    "        plt.show()\n",
    "        \n",
    "    def expon_test(self):\n",
    "        print('准指数规律检验')\n",
    "        year = self.xdata\n",
    "        x0 = self.ydata\n",
    "        # 累加x0\n",
    "        x1 = np.cumsum(x0).reshape(-1,1)\n",
    "        # 计算光滑度 rho(k)=x0(k)/x1(k-1)\n",
    "        rho = x0[1:] / x1[:-1]\n",
    "        # 统计小于0.5的个数\n",
    "        print(sum((rho<0.5).astype(int))[0])\n",
    "        plt.plot(year[1:], rho, marker='o', markerfacecolor='none')\n",
    "        plt.grid()\n",
    "        plt.axhline(y=0.5, color='r', linestyle='--', label='平均违约率')\n",
    "        plt.text(year[-3]-1,0.55,'临界线：y=0.5',fontsize=15)\n",
    "        \n",
    "    train_x0 = x0[:-3]  \n",
    "    test_x0 = x0[-3:]\n",
    "    \n",
    "    def gm11(self,test_num=3,pre_num=3):\n",
    "        x0 = self.ydata\n",
    "        # 训练数据\n",
    "        \n",
    "        n = len(x0)\n",
    "        x1 = np.cumsum(x0).reshape(-1,1)\n",
    "        z1 = (x1[:-1]+x1[1:]) / 2\n",
    "        y = x0[1:]\n",
    "        x = z1\n",
    "        reg = LinearRegression()\n",
    "        reg.fit(x,y)\n",
    "        a = -np.unique(reg.coef_)[0]\n",
    "        b = np.unique(reg.intercept_)[0]\n",
    "        x0_hat = np.zeros((n,1))\n",
    "        x0_hat[0] = x0[0]\n",
    "        for i in range(n-1):\n",
    "            x0_hat[i+1] = (1-np.exp(a)) * (x0[0]-b/a) * np.exp(-a*(i+1))\n",
    "        self.x0_hat = x0_hat\n",
    "        result = np.zeros((pre_num,1))\n",
    "        \n",
    "        for i in range(pre_num):\n",
    "            result[i] = (1-np.exp(a)) * (x0[0]-b/a) * np.exp(-a*(n+i))\n",
    "\n",
    "        self.result = result\n",
    "        \n",
    "        # 绝对残差与相对残差\n",
    "        absolute_residuals = x0[1:] - x0_hat[1:]\n",
    "        relative_residuals = abs(absolute_residuals) / x0[1:]\n",
    "        # 级比与级比偏差\n",
    "        class_ratio = x0[1:] / x0[:-1]\n",
    "        eta = abs(1-(1-0.5*a) / (1+0.5*a) * (1/class_ratio))\n",
    "        self.eta = eta\n",
    "        plt.plot(year[1:],relative_residuals)\n",
    "        return result\n",
    "        \n",
    "    def new_gm11(self,x0,pre_num1=3):\n",
    "        result1 = np.zeros((pre_num1,1))\n",
    "        x0_ = x0\n",
    "        for i in range(pre_num1):\n",
    "            result1[i] = self.sigle_compute_result(x0=x0_,pred_num=1)\n",
    "            x0_ = np.append(x0_,result1[i])\n",
    "        return result1\n",
    "    \n",
    "    def sigle_compute_result(self,x0,pred_num=3):\n",
    "        n = len(x0)\n",
    "        x1 = np.cumsum(x0).reshape(-1,1)\n",
    "        z1 = (x1[:-1]+x1[1:]) / 2\n",
    "        y = x0[1:]\n",
    "        x = z1\n",
    "        reg = LinearRegression()\n",
    "        reg.fit(x,y)\n",
    "        a = -np.unique(reg.coef_)[0]\n",
    "        b = np.unique(reg.intercept_)[0]\n",
    "        sigle_result = np.zeros((pred_num,1))\n",
    "        for i in range(pred_num):\n",
    "            sigle_result[i] = (1-np.exp(a)) * (x0[0]-b/a) * np.exp(-a*(n+i))\n",
    "        \n",
    "        return sigle_result\n",
    "        \n",
    "    def metab_gm11(self,x0,pre_num2=3):\n",
    "        result2 = np.zeros((pre_num2,1))\n",
    "        x0__ = x0\n",
    "        for i in range(pre_num2):\n",
    "            result2[i] = self.sigle_compute_result(x0=x0__,pred_num=1)\n",
    "            x0__ = np.append(x0__[1:], result2[i])\n",
    "        return result2\n",
    "    \n",
    "    def draw_result(self):\n",
    "        x0 = self.ydata[-3:]\n",
    "        gm11_result = self.sigle_compute_result(x0=self.train_x0)\n",
    "        new_gm11_result = self.new_gm11(x0=self.train_x0)\n",
    "        metab_gm11_result = self.metab_gm11(x0=self.train_x0)\n",
    "        pred_year = self.xdata[-3:]\n",
    "        plt.plot(pred_year,x0,label='原始数据')\n",
    "        plt.plot(pred_year,gm11_result,label='gm11预测结果')\n",
    "        plt.plot(pred_year,new_gm11_result,label='新gm11预测结果')\n",
    "        plt.plot(pred_year,metab_gm11_result,label='新陈代谢gm11预测结果')\n",
    "        plt.MultipleLocator(1)\n",
    "        plt.xticks(np.arange(pred_year[0],pred_year[-1]+1,1))\n",
    "        plt.legend()\n",
    "        \n",
    "    def compute_sse(self):\n",
    "        gm11_result = self.sigle_compute_result(x0=self.train_x0)\n",
    "        new_gm11_result = self.new_gm11(x0=self.train_x0)\n",
    "        metab_gm11_result = self.metab_gm11(x0=self.train_x0)\n",
    "\n",
    "        sse1 = sum((self.test_x0.reshape(-1,1)-gm11_result) **2)\n",
    "        sse2 = sum((self.test_x0.reshape(-1,1)-new_gm11_result) **2)\n",
    "        sse3 = sum((self.test_x0.reshape(-1,1)-metab_gm11_result) **2)\n",
    "        print('传统GM(1,1)预测误差平方和：',sse1[0])\n",
    "        print('新GM(1,1)预测误差平方和：',sse2[0])\n",
    "        print('新陈代谢GM(1,1)预测误差平方和：',sse3[0])"
   ]
  },
  {
   "cell_type": "code",
   "execution_count": 112,
   "metadata": {},
   "outputs": [
    {
     "name": "stdout",
     "output_type": "stream",
     "text": [
      "原始数据长度：10\n"
     ]
    },
    {
     "data": {
      "text/plain": [
       "array([[303.01223193],\n",
       "       [322.52210378],\n",
       "       [343.28814636]])"
      ]
     },
     "execution_count": 112,
     "metadata": {},
     "output_type": "execute_result"
    },
    {
     "data": {
      "image/png": "[encoded data removed]",
      "text/plain": [
       "<Figure size 432x288 with 1 Axes>"
      ]
     },
     "metadata": {
      "needs_background": "light"
     },
     "output_type": "display_data"
    }
   ],
   "source": [
    "a = GrayPre(xdata=year,ydata=x0)\n",
    "\n",
    "a.gm11()"
   ]
  },
  {
   "cell_type": "code",
   "execution_count": 6,
   "metadata": {},
   "outputs": [
    {
     "data": {
      "text/plain": [
       "array([174. , 179. , 183. , 189. , 207. , 234. , 220.5, 256. , 270. ,\n",
       "       285. ,   1. ,   3. ,   4. ])"
      ]
     },
     "execution_count": 6,
     "metadata": {},
     "output_type": "execute_result"
    }
   ],
   "source": [
    "np.append(x0,[1,3,4])"
   ]
  },
  {
   "cell_type": "code",
   "execution_count": 7,
   "metadata": {},
   "outputs": [
    {
     "data": {
      "text/plain": [
       "array([0.03270106, 0.02618425, 0.05650452, 0.13185971, 0.08134178,\n",
       "       0.01125699, 0.01042536, 0.0031596 , 0.00352941])"
      ]
     },
     "execution_count": 7,
     "metadata": {},
     "output_type": "execute_result"
    }
   ],
   "source": [
    "a.eta"
   ]
  },
  {
   "cell_type": "code",
   "execution_count": 31,
   "metadata": {},
   "outputs": [
    {
     "data": {
      "text/plain": [
       "7.38905609893065"
      ]
     },
     "execution_count": 31,
     "metadata": {},
     "output_type": "execute_result"
    }
   ],
   "source": [
    "np.exp(2)"
   ]
  },
  {
   "cell_type": "code",
   "execution_count": 5,
   "metadata": {},
   "outputs": [
    {
     "name": "stdout",
     "output_type": "stream",
     "text": [
      "原始数据长度：10\n",
      "准指数规律检验\n",
      "7\n"
     ]
    },
    {
     "data": {
      "image/png": "[encoded data removed]",
      "text/plain": [
       "<Figure size 432x288 with 1 Axes>"
      ]
     },
     "metadata": {
      "needs_background": "light"
     },
     "output_type": "display_data"
    }
   ],
   "source": [
    "a.expon_test()"
   ]
  },
  {
   "cell_type": "code",
   "execution_count": 186,
   "metadata": {},
   "outputs": [
    {
     "data": {
      "image/png": "[encoded data removed]",
      "text/plain": [
       "<Figure size 432x288 with 1 Axes>"
      ]
     },
     "metadata": {
      "needs_background": "light"
     },
     "output_type": "display_data"
    }
   ],
   "source": [
    "a.gplot('年份','排污量')"
   ]
  },
  {
   "cell_type": "code",
   "execution_count": 46,
   "metadata": {},
   "outputs": [
    {
     "data": {
      "text/plain": [
       "False"
      ]
     },
     "execution_count": 46,
     "metadata": {},
     "output_type": "execute_result"
    }
   ],
   "source": [
    "True in x0 < 0"
   ]
  },
  {
   "cell_type": "code",
   "execution_count": 85,
   "metadata": {},
   "outputs": [],
   "source": [
    "year = np.array(np.arange(1995,2005)).reshape(-1,1)\n",
    "x0 = np.array([174,179,183,189,207,234,220.5,256,270,285]).reshape(-1,1)"
   ]
  },
  {
   "cell_type": "code",
   "execution_count": 86,
   "metadata": {},
   "outputs": [
    {
     "data": {
      "text/plain": [
       "array([ 174. ,  353. ,  536. ,  725. ,  932. , 1166. , 1386.5, 1642.5,\n",
       "       1912.5, 2197.5])"
      ]
     },
     "execution_count": 86,
     "metadata": {},
     "output_type": "execute_result"
    }
   ],
   "source": [
    "np.cumsum(x0)"
   ]
  },
  {
   "cell_type": "code",
   "execution_count": 107,
   "metadata": {},
   "outputs": [
    {
     "data": {
      "text/plain": [
       "\u001b[1;31mInit signature:\u001b[0m\n",
       "\u001b[0mLinearRegression\u001b[0m\u001b[1;33m(\u001b[0m\u001b[1;33m\n",
       "\u001b[0m    \u001b[1;33m*\u001b[0m\u001b[1;33m,\u001b[0m\u001b[1;33m\n",
       "\u001b[0m    \u001b[0mfit_intercept\u001b[0m\u001b[1;33m=\u001b[0m\u001b[1;32mTrue\u001b[0m\u001b[1;33m,\u001b[0m\u001b[1;33m\n",
       "\u001b[0m    \u001b[0mnormalize\u001b[0m\u001b[1;33m=\u001b[0m\u001b[1;32mFalse\u001b[0m\u001b[1;33m,\u001b[0m\u001b[1;33m\n",
       "\u001b[0m    \u001b[0mcopy_X\u001b[0m\u001b[1;33m=\u001b[0m\u001b[1;32mTrue\u001b[0m\u001b[1;33m,\u001b[0m\u001b[1;33m\n",
       "\u001b[0m    \u001b[0mn_jobs\u001b[0m\u001b[1;33m=\u001b[0m\u001b[1;32mNone\u001b[0m\u001b[1;33m,\u001b[0m\u001b[1;33m\n",
       "\u001b[0m\u001b[1;33m)\u001b[0m\u001b[1;33m\u001b[0m\u001b[1;33m\u001b[0m\u001b[0m\n",
       "\u001b[1;31mSource:\u001b[0m        \n",
       "\u001b[1;32mclass\u001b[0m \u001b[0mLinearRegression\u001b[0m\u001b[1;33m(\u001b[0m\u001b[0mMultiOutputMixin\u001b[0m\u001b[1;33m,\u001b[0m \u001b[0mRegressorMixin\u001b[0m\u001b[1;33m,\u001b[0m \u001b[0mLinearModel\u001b[0m\u001b[1;33m)\u001b[0m\u001b[1;33m:\u001b[0m\u001b[1;33m\n",
       "\u001b[0m    \u001b[1;34m\"\"\"\n",
       "    Ordinary least squares Linear Regression.\n",
       "\n",
       "    LinearRegression fits a linear model with coefficients w = (w1, ..., wp)\n",
       "    to minimize the residual sum of squares between the observed targets in\n",
       "    the dataset, and the targets predicted by the linear approximation.\n",
       "\n",
       "    Parameters\n",
       "    ----------\n",
       "    fit_intercept : bool, default=True\n",
       "        Whether to calculate the intercept for this model. If set\n",
       "        to False, no intercept will be used in calculations\n",
       "        (i.e. data is expected to be centered).\n",
       "\n",
       "    normalize : bool, default=False\n",
       "        This parameter is ignored when ``fit_intercept`` is set to False.\n",
       "        If True, the regressors X will be normalized before regression by\n",
       "        subtracting the mean and dividing by the l2-norm.\n",
       "        If you wish to standardize, please use\n",
       "        :class:`sklearn.preprocessing.StandardScaler` before calling ``fit`` on\n",
       "        an estimator with ``normalize=False``.\n",
       "\n",
       "    copy_X : bool, default=True\n",
       "        If True, X will be copied; else, it may be overwritten.\n",
       "\n",
       "    n_jobs : int, default=None\n",
       "        The number of jobs to use for the computation. This will only provide\n",
       "        speedup for n_targets > 1 and sufficient large problems.\n",
       "        ``None`` means 1 unless in a :obj:`joblib.parallel_backend` context.\n",
       "        ``-1`` means using all processors. See :term:`Glossary <n_jobs>`\n",
       "        for more details.\n",
       "\n",
       "    Attributes\n",
       "    ----------\n",
       "    coef_ : array of shape (n_features, ) or (n_targets, n_features)\n",
       "        Estimated coefficients for the linear regression problem.\n",
       "        If multiple targets are passed during the fit (y 2D), this\n",
       "        is a 2D array of shape (n_targets, n_features), while if only\n",
       "        one target is passed, this is a 1D array of length n_features.\n",
       "\n",
       "    rank_ : int\n",
       "        Rank of matrix `X`. Only available when `X` is dense.\n",
       "\n",
       "    singular_ : array of shape (min(X, y),)\n",
       "        Singular values of `X`. Only available when `X` is dense.\n",
       "\n",
       "    intercept_ : float or array of shape (n_targets,)\n",
       "        Independent term in the linear model. Set to 0.0 if\n",
       "        `fit_intercept = False`.\n",
       "\n",
       "    See Also\n",
       "    --------\n",
       "    sklearn.linear_model.Ridge : Ridge regression addresses some of the\n",
       "        problems of Ordinary Least Squares by imposing a penalty on the\n",
       "        size of the coefficients with l2 regularization.\n",
       "    sklearn.linear_model.Lasso : The Lasso is a linear model that estimates\n",
       "        sparse coefficients with l1 regularization.\n",
       "    sklearn.linear_model.ElasticNet : Elastic-Net is a linear regression\n",
       "        model trained with both l1 and l2 -norm regularization of the\n",
       "        coefficients.\n",
       "\n",
       "    Notes\n",
       "    -----\n",
       "    From the implementation point of view, this is just plain Ordinary\n",
       "    Least Squares (scipy.linalg.lstsq) wrapped as a predictor object.\n",
       "\n",
       "    Examples\n",
       "    --------\n",
       "    >>> import numpy as np\n",
       "    >>> from sklearn.linear_model import LinearRegression\n",
       "    >>> X = np.array([[1, 1], [1, 2], [2, 2], [2, 3]])\n",
       "    >>> # y = 1 * x_0 + 2 * x_1 + 3\n",
       "    >>> y = np.dot(X, np.array([1, 2])) + 3\n",
       "    >>> reg = LinearRegression().fit(X, y)\n",
       "    >>> reg.score(X, y)\n",
       "    1.0\n",
       "    >>> reg.coef_\n",
       "    array([1., 2.])\n",
       "    >>> reg.intercept_\n",
       "    3.0000...\n",
       "    >>> reg.predict(np.array([[3, 5]]))\n",
       "    array([16.])\n",
       "    \"\"\"\u001b[0m\u001b[1;33m\n",
       "\u001b[0m    \u001b[1;33m@\u001b[0m\u001b[0m_deprecate_positional_args\u001b[0m\u001b[1;33m\n",
       "\u001b[0m    \u001b[1;32mdef\u001b[0m \u001b[0m__init__\u001b[0m\u001b[1;33m(\u001b[0m\u001b[0mself\u001b[0m\u001b[1;33m,\u001b[0m \u001b[1;33m*\u001b[0m\u001b[1;33m,\u001b[0m \u001b[0mfit_intercept\u001b[0m\u001b[1;33m=\u001b[0m\u001b[1;32mTrue\u001b[0m\u001b[1;33m,\u001b[0m \u001b[0mnormalize\u001b[0m\u001b[1;33m=\u001b[0m\u001b[1;32mFalse\u001b[0m\u001b[1;33m,\u001b[0m \u001b[0mcopy_X\u001b[0m\u001b[1;33m=\u001b[0m\u001b[1;32mTrue\u001b[0m\u001b[1;33m,\u001b[0m\u001b[1;33m\n",
       "\u001b[0m                 \u001b[0mn_jobs\u001b[0m\u001b[1;33m=\u001b[0m\u001b[1;32mNone\u001b[0m\u001b[1;33m)\u001b[0m\u001b[1;33m:\u001b[0m\u001b[1;33m\n",
       "\u001b[0m        \u001b[0mself\u001b[0m\u001b[1;33m.\u001b[0m\u001b[0mfit_intercept\u001b[0m \u001b[1;33m=\u001b[0m \u001b[0mfit_intercept\u001b[0m\u001b[1;33m\n",
       "\u001b[0m        \u001b[0mself\u001b[0m\u001b[1;33m.\u001b[0m\u001b[0mnormalize\u001b[0m \u001b[1;33m=\u001b[0m \u001b[0mnormalize\u001b[0m\u001b[1;33m\n",
       "\u001b[0m        \u001b[0mself\u001b[0m\u001b[1;33m.\u001b[0m\u001b[0mcopy_X\u001b[0m \u001b[1;33m=\u001b[0m \u001b[0mcopy_X\u001b[0m\u001b[1;33m\n",
       "\u001b[0m        \u001b[0mself\u001b[0m\u001b[1;33m.\u001b[0m\u001b[0mn_jobs\u001b[0m \u001b[1;33m=\u001b[0m \u001b[0mn_jobs\u001b[0m\u001b[1;33m\n",
       "\u001b[0m\u001b[1;33m\n",
       "\u001b[0m    \u001b[1;32mdef\u001b[0m \u001b[0mfit\u001b[0m\u001b[1;33m(\u001b[0m\u001b[0mself\u001b[0m\u001b[1;33m,\u001b[0m \u001b[0mX\u001b[0m\u001b[1;33m,\u001b[0m \u001b[0my\u001b[0m\u001b[1;33m,\u001b[0m \u001b[0msample_weight\u001b[0m\u001b[1;33m=\u001b[0m\u001b[1;32mNone\u001b[0m\u001b[1;33m)\u001b[0m\u001b[1;33m:\u001b[0m\u001b[1;33m\n",
       "\u001b[0m        \u001b[1;34m\"\"\"\n",
       "        Fit linear model.\n",
       "\n",
       "        Parameters\n",
       "        ----------\n",
       "        X : {array-like, sparse matrix} of shape (n_samples, n_features)\n",
       "            Training data\n",
       "\n",
       "        y : array-like of shape (n_samples,) or (n_samples, n_targets)\n",
       "            Target values. Will be cast to X's dtype if necessary\n",
       "\n",
       "        sample_weight : array-like of shape (n_samples,), default=None\n",
       "            Individual weights for each sample\n",
       "\n",
       "            .. versionadded:: 0.17\n",
       "               parameter *sample_weight* support to LinearRegression.\n",
       "\n",
       "        Returns\n",
       "        -------\n",
       "        self : returns an instance of self.\n",
       "        \"\"\"\u001b[0m\u001b[1;33m\n",
       "\u001b[0m\u001b[1;33m\n",
       "\u001b[0m        \u001b[0mn_jobs_\u001b[0m \u001b[1;33m=\u001b[0m \u001b[0mself\u001b[0m\u001b[1;33m.\u001b[0m\u001b[0mn_jobs\u001b[0m\u001b[1;33m\n",
       "\u001b[0m        \u001b[0mX\u001b[0m\u001b[1;33m,\u001b[0m \u001b[0my\u001b[0m \u001b[1;33m=\u001b[0m \u001b[0mself\u001b[0m\u001b[1;33m.\u001b[0m\u001b[0m_validate_data\u001b[0m\u001b[1;33m(\u001b[0m\u001b[0mX\u001b[0m\u001b[1;33m,\u001b[0m \u001b[0my\u001b[0m\u001b[1;33m,\u001b[0m \u001b[0maccept_sparse\u001b[0m\u001b[1;33m=\u001b[0m\u001b[1;33m[\u001b[0m\u001b[1;34m'csr'\u001b[0m\u001b[1;33m,\u001b[0m \u001b[1;34m'csc'\u001b[0m\u001b[1;33m,\u001b[0m \u001b[1;34m'coo'\u001b[0m\u001b[1;33m]\u001b[0m\u001b[1;33m,\u001b[0m\u001b[1;33m\n",
       "\u001b[0m                                   \u001b[0my_numeric\u001b[0m\u001b[1;33m=\u001b[0m\u001b[1;32mTrue\u001b[0m\u001b[1;33m,\u001b[0m \u001b[0mmulti_output\u001b[0m\u001b[1;33m=\u001b[0m\u001b[1;32mTrue\u001b[0m\u001b[1;33m)\u001b[0m\u001b[1;33m\n",
       "\u001b[0m\u001b[1;33m\n",
       "\u001b[0m        \u001b[1;32mif\u001b[0m \u001b[0msample_weight\u001b[0m \u001b[1;32mis\u001b[0m \u001b[1;32mnot\u001b[0m \u001b[1;32mNone\u001b[0m\u001b[1;33m:\u001b[0m\u001b[1;33m\n",
       "\u001b[0m            \u001b[0msample_weight\u001b[0m \u001b[1;33m=\u001b[0m \u001b[0m_check_sample_weight\u001b[0m\u001b[1;33m(\u001b[0m\u001b[0msample_weight\u001b[0m\u001b[1;33m,\u001b[0m \u001b[0mX\u001b[0m\u001b[1;33m,\u001b[0m\u001b[1;33m\n",
       "\u001b[0m                                                 \u001b[0mdtype\u001b[0m\u001b[1;33m=\u001b[0m\u001b[0mX\u001b[0m\u001b[1;33m.\u001b[0m\u001b[0mdtype\u001b[0m\u001b[1;33m)\u001b[0m\u001b[1;33m\n",
       "\u001b[0m\u001b[1;33m\n",
       "\u001b[0m        \u001b[0mX\u001b[0m\u001b[1;33m,\u001b[0m \u001b[0my\u001b[0m\u001b[1;33m,\u001b[0m \u001b[0mX_offset\u001b[0m\u001b[1;33m,\u001b[0m \u001b[0my_offset\u001b[0m\u001b[1;33m,\u001b[0m \u001b[0mX_scale\u001b[0m \u001b[1;33m=\u001b[0m \u001b[0mself\u001b[0m\u001b[1;33m.\u001b[0m\u001b[0m_preprocess_data\u001b[0m\u001b[1;33m(\u001b[0m\u001b[1;33m\n",
       "\u001b[0m            \u001b[0mX\u001b[0m\u001b[1;33m,\u001b[0m \u001b[0my\u001b[0m\u001b[1;33m,\u001b[0m \u001b[0mfit_intercept\u001b[0m\u001b[1;33m=\u001b[0m\u001b[0mself\u001b[0m\u001b[1;33m.\u001b[0m\u001b[0mfit_intercept\u001b[0m\u001b[1;33m,\u001b[0m \u001b[0mnormalize\u001b[0m\u001b[1;33m=\u001b[0m\u001b[0mself\u001b[0m\u001b[1;33m.\u001b[0m\u001b[0mnormalize\u001b[0m\u001b[1;33m,\u001b[0m\u001b[1;33m\n",
       "\u001b[0m            \u001b[0mcopy\u001b[0m\u001b[1;33m=\u001b[0m\u001b[0mself\u001b[0m\u001b[1;33m.\u001b[0m\u001b[0mcopy_X\u001b[0m\u001b[1;33m,\u001b[0m \u001b[0msample_weight\u001b[0m\u001b[1;33m=\u001b[0m\u001b[0msample_weight\u001b[0m\u001b[1;33m,\u001b[0m\u001b[1;33m\n",
       "\u001b[0m            \u001b[0mreturn_mean\u001b[0m\u001b[1;33m=\u001b[0m\u001b[1;32mTrue\u001b[0m\u001b[1;33m)\u001b[0m\u001b[1;33m\n",
       "\u001b[0m\u001b[1;33m\n",
       "\u001b[0m        \u001b[1;32mif\u001b[0m \u001b[0msample_weight\u001b[0m \u001b[1;32mis\u001b[0m \u001b[1;32mnot\u001b[0m \u001b[1;32mNone\u001b[0m\u001b[1;33m:\u001b[0m\u001b[1;33m\n",
       "\u001b[0m            \u001b[1;31m# Sample weight can be implemented via a simple rescaling.\u001b[0m\u001b[1;33m\n",
       "\u001b[0m            \u001b[0mX\u001b[0m\u001b[1;33m,\u001b[0m \u001b[0my\u001b[0m \u001b[1;33m=\u001b[0m \u001b[0m_rescale_data\u001b[0m\u001b[1;33m(\u001b[0m\u001b[0mX\u001b[0m\u001b[1;33m,\u001b[0m \u001b[0my\u001b[0m\u001b[1;33m,\u001b[0m \u001b[0msample_weight\u001b[0m\u001b[1;33m)\u001b[0m\u001b[1;33m\n",
       "\u001b[0m\u001b[1;33m\n",
       "\u001b[0m        \u001b[1;32mif\u001b[0m \u001b[0msp\u001b[0m\u001b[1;33m.\u001b[0m\u001b[0missparse\u001b[0m\u001b[1;33m(\u001b[0m\u001b[0mX\u001b[0m\u001b[1;33m)\u001b[0m\u001b[1;33m:\u001b[0m\u001b[1;33m\n",
       "\u001b[0m            \u001b[0mX_offset_scale\u001b[0m \u001b[1;33m=\u001b[0m \u001b[0mX_offset\u001b[0m \u001b[1;33m/\u001b[0m \u001b[0mX_scale\u001b[0m\u001b[1;33m\n",
       "\u001b[0m\u001b[1;33m\n",
       "\u001b[0m            \u001b[1;32mdef\u001b[0m \u001b[0mmatvec\u001b[0m\u001b[1;33m(\u001b[0m\u001b[0mb\u001b[0m\u001b[1;33m)\u001b[0m\u001b[1;33m:\u001b[0m\u001b[1;33m\n",
       "\u001b[0m                \u001b[1;32mreturn\u001b[0m \u001b[0mX\u001b[0m\u001b[1;33m.\u001b[0m\u001b[0mdot\u001b[0m\u001b[1;33m(\u001b[0m\u001b[0mb\u001b[0m\u001b[1;33m)\u001b[0m \u001b[1;33m-\u001b[0m \u001b[0mb\u001b[0m\u001b[1;33m.\u001b[0m\u001b[0mdot\u001b[0m\u001b[1;33m(\u001b[0m\u001b[0mX_offset_scale\u001b[0m\u001b[1;33m)\u001b[0m\u001b[1;33m\n",
       "\u001b[0m\u001b[1;33m\n",
       "\u001b[0m            \u001b[1;32mdef\u001b[0m \u001b[0mrmatvec\u001b[0m\u001b[1;33m(\u001b[0m\u001b[0mb\u001b[0m\u001b[1;33m)\u001b[0m\u001b[1;33m:\u001b[0m\u001b[1;33m\n",
       "\u001b[0m                \u001b[1;32mreturn\u001b[0m \u001b[0mX\u001b[0m\u001b[1;33m.\u001b[0m\u001b[0mT\u001b[0m\u001b[1;33m.\u001b[0m\u001b[0mdot\u001b[0m\u001b[1;33m(\u001b[0m\u001b[0mb\u001b[0m\u001b[1;33m)\u001b[0m \u001b[1;33m-\u001b[0m \u001b[0mX_offset_scale\u001b[0m \u001b[1;33m*\u001b[0m \u001b[0mnp\u001b[0m\u001b[1;33m.\u001b[0m\u001b[0msum\u001b[0m\u001b[1;33m(\u001b[0m\u001b[0mb\u001b[0m\u001b[1;33m)\u001b[0m\u001b[1;33m\n",
       "\u001b[0m\u001b[1;33m\n",
       "\u001b[0m            \u001b[0mX_centered\u001b[0m \u001b[1;33m=\u001b[0m \u001b[0msparse\u001b[0m\u001b[1;33m.\u001b[0m\u001b[0mlinalg\u001b[0m\u001b[1;33m.\u001b[0m\u001b[0mLinearOperator\u001b[0m\u001b[1;33m(\u001b[0m\u001b[0mshape\u001b[0m\u001b[1;33m=\u001b[0m\u001b[0mX\u001b[0m\u001b[1;33m.\u001b[0m\u001b[0mshape\u001b[0m\u001b[1;33m,\u001b[0m\u001b[1;33m\n",
       "\u001b[0m                                                      \u001b[0mmatvec\u001b[0m\u001b[1;33m=\u001b[0m\u001b[0mmatvec\u001b[0m\u001b[1;33m,\u001b[0m\u001b[1;33m\n",
       "\u001b[0m                                                      \u001b[0mrmatvec\u001b[0m\u001b[1;33m=\u001b[0m\u001b[0mrmatvec\u001b[0m\u001b[1;33m)\u001b[0m\u001b[1;33m\n",
       "\u001b[0m\u001b[1;33m\n",
       "\u001b[0m            \u001b[1;32mif\u001b[0m \u001b[0my\u001b[0m\u001b[1;33m.\u001b[0m\u001b[0mndim\u001b[0m \u001b[1;33m<\u001b[0m \u001b[1;36m2\u001b[0m\u001b[1;33m:\u001b[0m\u001b[1;33m\n",
       "\u001b[0m                \u001b[0mout\u001b[0m \u001b[1;33m=\u001b[0m \u001b[0msparse_lsqr\u001b[0m\u001b[1;33m(\u001b[0m\u001b[0mX_centered\u001b[0m\u001b[1;33m,\u001b[0m \u001b[0my\u001b[0m\u001b[1;33m)\u001b[0m\u001b[1;33m\n",
       "\u001b[0m                \u001b[0mself\u001b[0m\u001b[1;33m.\u001b[0m\u001b[0mcoef_\u001b[0m \u001b[1;33m=\u001b[0m \u001b[0mout\u001b[0m\u001b[1;33m[\u001b[0m\u001b[1;36m0\u001b[0m\u001b[1;33m]\u001b[0m\u001b[1;33m\n",
       "\u001b[0m                \u001b[0mself\u001b[0m\u001b[1;33m.\u001b[0m\u001b[0m_residues\u001b[0m \u001b[1;33m=\u001b[0m \u001b[0mout\u001b[0m\u001b[1;33m[\u001b[0m\u001b[1;36m3\u001b[0m\u001b[1;33m]\u001b[0m\u001b[1;33m\n",
       "\u001b[0m            \u001b[1;32melse\u001b[0m\u001b[1;33m:\u001b[0m\u001b[1;33m\n",
       "\u001b[0m                \u001b[1;31m# sparse_lstsq cannot handle y with shape (M, K)\u001b[0m\u001b[1;33m\n",
       "\u001b[0m                \u001b[0mouts\u001b[0m \u001b[1;33m=\u001b[0m \u001b[0mParallel\u001b[0m\u001b[1;33m(\u001b[0m\u001b[0mn_jobs\u001b[0m\u001b[1;33m=\u001b[0m\u001b[0mn_jobs_\u001b[0m\u001b[1;33m)\u001b[0m\u001b[1;33m(\u001b[0m\u001b[1;33m\n",
       "\u001b[0m                    \u001b[0mdelayed\u001b[0m\u001b[1;33m(\u001b[0m\u001b[0msparse_lsqr\u001b[0m\u001b[1;33m)\u001b[0m\u001b[1;33m(\u001b[0m\u001b[0mX_centered\u001b[0m\u001b[1;33m,\u001b[0m \u001b[0my\u001b[0m\u001b[1;33m[\u001b[0m\u001b[1;33m:\u001b[0m\u001b[1;33m,\u001b[0m \u001b[0mj\u001b[0m\u001b[1;33m]\u001b[0m\u001b[1;33m.\u001b[0m\u001b[0mravel\u001b[0m\u001b[1;33m(\u001b[0m\u001b[1;33m)\u001b[0m\u001b[1;33m)\u001b[0m\u001b[1;33m\n",
       "\u001b[0m                    \u001b[1;32mfor\u001b[0m \u001b[0mj\u001b[0m \u001b[1;32min\u001b[0m \u001b[0mrange\u001b[0m\u001b[1;33m(\u001b[0m\u001b[0my\u001b[0m\u001b[1;33m.\u001b[0m\u001b[0mshape\u001b[0m\u001b[1;33m[\u001b[0m\u001b[1;36m1\u001b[0m\u001b[1;33m]\u001b[0m\u001b[1;33m)\u001b[0m\u001b[1;33m)\u001b[0m\u001b[1;33m\n",
       "\u001b[0m                \u001b[0mself\u001b[0m\u001b[1;33m.\u001b[0m\u001b[0mcoef_\u001b[0m \u001b[1;33m=\u001b[0m \u001b[0mnp\u001b[0m\u001b[1;33m.\u001b[0m\u001b[0mvstack\u001b[0m\u001b[1;33m(\u001b[0m\u001b[1;33m[\u001b[0m\u001b[0mout\u001b[0m\u001b[1;33m[\u001b[0m\u001b[1;36m0\u001b[0m\u001b[1;33m]\u001b[0m \u001b[1;32mfor\u001b[0m \u001b[0mout\u001b[0m \u001b[1;32min\u001b[0m \u001b[0mouts\u001b[0m\u001b[1;33m]\u001b[0m\u001b[1;33m)\u001b[0m\u001b[1;33m\n",
       "\u001b[0m                \u001b[0mself\u001b[0m\u001b[1;33m.\u001b[0m\u001b[0m_residues\u001b[0m \u001b[1;33m=\u001b[0m \u001b[0mnp\u001b[0m\u001b[1;33m.\u001b[0m\u001b[0mvstack\u001b[0m\u001b[1;33m(\u001b[0m\u001b[1;33m[\u001b[0m\u001b[0mout\u001b[0m\u001b[1;33m[\u001b[0m\u001b[1;36m3\u001b[0m\u001b[1;33m]\u001b[0m \u001b[1;32mfor\u001b[0m \u001b[0mout\u001b[0m \u001b[1;32min\u001b[0m \u001b[0mouts\u001b[0m\u001b[1;33m]\u001b[0m\u001b[1;33m)\u001b[0m\u001b[1;33m\n",
       "\u001b[0m        \u001b[1;32melse\u001b[0m\u001b[1;33m:\u001b[0m\u001b[1;33m\n",
       "\u001b[0m            \u001b[0mself\u001b[0m\u001b[1;33m.\u001b[0m\u001b[0mcoef_\u001b[0m\u001b[1;33m,\u001b[0m \u001b[0mself\u001b[0m\u001b[1;33m.\u001b[0m\u001b[0m_residues\u001b[0m\u001b[1;33m,\u001b[0m \u001b[0mself\u001b[0m\u001b[1;33m.\u001b[0m\u001b[0mrank_\u001b[0m\u001b[1;33m,\u001b[0m \u001b[0mself\u001b[0m\u001b[1;33m.\u001b[0m\u001b[0msingular_\u001b[0m \u001b[1;33m=\u001b[0m \\\n",
       "                \u001b[0mlinalg\u001b[0m\u001b[1;33m.\u001b[0m\u001b[0mlstsq\u001b[0m\u001b[1;33m(\u001b[0m\u001b[0mX\u001b[0m\u001b[1;33m,\u001b[0m \u001b[0my\u001b[0m\u001b[1;33m)\u001b[0m\u001b[1;33m\n",
       "\u001b[0m            \u001b[0mself\u001b[0m\u001b[1;33m.\u001b[0m\u001b[0mcoef_\u001b[0m \u001b[1;33m=\u001b[0m \u001b[0mself\u001b[0m\u001b[1;33m.\u001b[0m\u001b[0mcoef_\u001b[0m\u001b[1;33m.\u001b[0m\u001b[0mT\u001b[0m\u001b[1;33m\n",
       "\u001b[0m\u001b[1;33m\n",
       "\u001b[0m        \u001b[1;32mif\u001b[0m \u001b[0my\u001b[0m\u001b[1;33m.\u001b[0m\u001b[0mndim\u001b[0m \u001b[1;33m==\u001b[0m \u001b[1;36m1\u001b[0m\u001b[1;33m:\u001b[0m\u001b[1;33m\n",
       "\u001b[0m            \u001b[0mself\u001b[0m\u001b[1;33m.\u001b[0m\u001b[0mcoef_\u001b[0m \u001b[1;33m=\u001b[0m \u001b[0mnp\u001b[0m\u001b[1;33m.\u001b[0m\u001b[0mravel\u001b[0m\u001b[1;33m(\u001b[0m\u001b[0mself\u001b[0m\u001b[1;33m.\u001b[0m\u001b[0mcoef_\u001b[0m\u001b[1;33m)\u001b[0m\u001b[1;33m\n",
       "\u001b[0m        \u001b[0mself\u001b[0m\u001b[1;33m.\u001b[0m\u001b[0m_set_intercept\u001b[0m\u001b[1;33m(\u001b[0m\u001b[0mX_offset\u001b[0m\u001b[1;33m,\u001b[0m \u001b[0my_offset\u001b[0m\u001b[1;33m,\u001b[0m \u001b[0mX_scale\u001b[0m\u001b[1;33m)\u001b[0m\u001b[1;33m\n",
       "\u001b[0m        \u001b[1;32mreturn\u001b[0m \u001b[0mself\u001b[0m\u001b[1;33m\u001b[0m\u001b[1;33m\u001b[0m\u001b[0m\n",
       "\u001b[1;31mFile:\u001b[0m           c:\\users\\lanr\\miniconda3\\lib\\site-packages\\sklearn\\linear_model\\_base.py\n",
       "\u001b[1;31mType:\u001b[0m           ABCMeta\n",
       "\u001b[1;31mSubclasses:\u001b[0m     \n"
      ]
     },
     "metadata": {},
     "output_type": "display_data"
    }
   ],
   "source": [
    "LinearRegression??"
   ]
  },
  {
   "cell_type": "code",
   "execution_count": null,
   "metadata": {},
   "outputs": [],
   "source": []
  }
 ],
 "metadata": {
  "kernelspec": {
   "display_name": "Python 3",
   "language": "python",
   "name": "python3"
  },
  "language_info": {
   "codemirror_mode": {
    "name": "ipython",
    "version": 3
   },
   "file_extension": ".py",
   "mimetype": "text/x-python",
   "name": "python",
   "nbconvert_exporter": "python",
   "pygments_lexer": "ipython3",
   "version": "3.7.6"
  }
 },
 "nbformat": 4,
 "nbformat_minor": 4
}
