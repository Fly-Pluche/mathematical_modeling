{
 "cells": [
  {
   "cell_type": "code",
   "execution_count": 38,
   "metadata": {},
   "outputs": [],
   "source": [
    "import numpy as np\n",
    "import pandas as pd\n",
    "\n",
    "np.set_printoptions(suppress=True,precision=3)"
   ]
  },
  {
   "cell_type": "code",
   "execution_count": 39,
   "metadata": {},
   "outputs": [
    {
     "data": {
      "text/html": [
       "<div>\n",
       "<style scoped>\n",
       "    .dataframe tbody tr th:only-of-type {\n",
       "        vertical-align: middle;\n",
       "    }\n",
       "\n",
       "    .dataframe tbody tr th {\n",
       "        vertical-align: top;\n",
       "    }\n",
       "\n",
       "    .dataframe thead th {\n",
       "        text-align: right;\n",
       "    }\n",
       "</style>\n",
       "<table border=\"1\" class=\"dataframe\">\n",
       "  <thead>\n",
       "    <tr style=\"text-align: right;\">\n",
       "      <th></th>\n",
       "      <th>GDP</th>\n",
       "      <th>第一产业</th>\n",
       "      <th>第二产业</th>\n",
       "      <th>第三产业</th>\n",
       "    </tr>\n",
       "  </thead>\n",
       "  <tbody>\n",
       "    <tr>\n",
       "      <th>0</th>\n",
       "      <td>1988</td>\n",
       "      <td>386</td>\n",
       "      <td>839</td>\n",
       "      <td>763</td>\n",
       "    </tr>\n",
       "    <tr>\n",
       "      <th>1</th>\n",
       "      <td>2061</td>\n",
       "      <td>408</td>\n",
       "      <td>846</td>\n",
       "      <td>808</td>\n",
       "    </tr>\n",
       "    <tr>\n",
       "      <th>2</th>\n",
       "      <td>2335</td>\n",
       "      <td>422</td>\n",
       "      <td>960</td>\n",
       "      <td>953</td>\n",
       "    </tr>\n",
       "    <tr>\n",
       "      <th>3</th>\n",
       "      <td>2750</td>\n",
       "      <td>482</td>\n",
       "      <td>1258</td>\n",
       "      <td>1010</td>\n",
       "    </tr>\n",
       "    <tr>\n",
       "      <th>4</th>\n",
       "      <td>3356</td>\n",
       "      <td>511</td>\n",
       "      <td>1577</td>\n",
       "      <td>1268</td>\n",
       "    </tr>\n",
       "    <tr>\n",
       "      <th>5</th>\n",
       "      <td>3806</td>\n",
       "      <td>561</td>\n",
       "      <td>1893</td>\n",
       "      <td>1352</td>\n",
       "    </tr>\n",
       "  </tbody>\n",
       "</table>\n",
       "</div>"
      ],
      "text/plain": [
       "    GDP  第一产业  第二产业  第三产业\n",
       "0  1988   386   839   763\n",
       "1  2061   408   846   808\n",
       "2  2335   422   960   953\n",
       "3  2750   482  1258  1010\n",
       "4  3356   511  1577  1268\n",
       "5  3806   561  1893  1352"
      ]
     },
     "execution_count": 39,
     "metadata": {},
     "output_type": "execute_result"
    }
   ],
   "source": [
    "data = pd.read_csv('gdp.csv',header=None)\n",
    "data = data.rename({0:'GDP',1:'第一产业',2:'第二产业',3:'第三产业'},axis=1)\n",
    "data"
   ]
  },
  {
   "cell_type": "code",
   "execution_count": 40,
   "metadata": {},
   "outputs": [],
   "source": [
    "x_mat = np.array(data)"
   ]
  },
  {
   "cell_type": "code",
   "execution_count": 71,
   "metadata": {},
   "outputs": [],
   "source": [
    "## 定义函数求解关联度\n",
    "def gray_analysis(x,rho=0.5):\n",
    "    x_mean = x.mean(axis=0)\n",
    "    x = x/x_mean\n",
    "    X = x[:,1:]  #提取所有子序列\n",
    "    Y = x[:,0].reshape(X.shape[0],1)  #提取母序列\n",
    "    abs_x0_xi = np.abs(X-Y)\n",
    "    a = np.min(abs_x0_xi)\n",
    "    b = np.max(abs_x0_xi)\n",
    "    gamma_mat = (a+rho*b)/(abs_x0_xi+rho*b)\n",
    "    corre_degree = np.mean(gamma_mat,axis=0)\n",
    "    # print(gamma_mat)\n",
    "    print(\"子序列中各个指标的灰色关联度分别为：\",corre_degree)\n",
    "    return corre_degree"
   ]
  },
  {
   "cell_type": "code",
   "execution_count": 72,
   "metadata": {},
   "outputs": [
    {
     "name": "stdout",
     "output_type": "stream",
     "text": [
      "子序列中各个指标的灰色关联度分别为： [0.508 0.624 0.757]\n"
     ]
    },
    {
     "data": {
      "text/plain": [
       "array([0.508, 0.624, 0.757])"
      ]
     },
     "execution_count": 72,
     "metadata": {},
     "output_type": "execute_result"
    }
   ],
   "source": [
    "gray_analysis(x_mat)"
   ]
  },
  {
   "cell_type": "markdown",
   "metadata": {},
   "source": [
    "### 用于确定权重"
   ]
  },
  {
   "cell_type": "code",
   "execution_count": 47,
   "metadata": {},
   "outputs": [],
   "source": [
    "class Topsis:\n",
    "    def __init__(self,X,**typ):\n",
    "        # 所有待转换的类型\n",
    "        x_mat = X.copy()\n",
    "        ctype = ['cmin','cmedian','crange']\n",
    "        if typ:\n",
    "            # 提取待转换类型及对应的列为一个新字典\n",
    "            type_dic = dict([(t,typ[t]) for t in ctype if t in typ.keys()])\n",
    "            position = sum(type_dic.values(),[])\n",
    "\n",
    "            for col_wait_for_convert in position:\n",
    "                convert_type = [k for k, v in typ.items() if col_wait_for_convert in v][0]\n",
    "                current_index = typ[convert_type].index(col_wait_for_convert)\n",
    "                if convert_type == 'cmedian':\n",
    "                    x_mat.iloc[:,col_wait_for_convert] = self.positivization(x_mat[col_wait_for_convert], convert_type,typ['best_median'][current_index])\n",
    "                \n",
    "                elif convert_type == 'crange':\n",
    "                    x_mat.iloc[:,col_wait_for_convert] = self.positivization(x_mat[col_wait_for_convert], convert_type,typ['best_range'][current_index])\n",
    "                \n",
    "                else:\n",
    "                    x_mat.iloc[:,col_wait_for_convert] = self.positivization(x_mat[col_wait_for_convert],convert_type)\n",
    "        else:\n",
    "            print('无需正向化')\n",
    "            \n",
    "        self.x_mat = x_mat\n",
    "            \n",
    "    def positivization(self, col ,t, best=None):\n",
    "        if t == 'cmin':\n",
    "            posit = col.max() - col\n",
    "            return posit\n",
    "        elif t == 'cmedian':\n",
    "            m = max(abs(col - best))\n",
    "            posit = 1 - abs(col - best) / m\n",
    "            return posit\n",
    "        else:\n",
    "            posit = col\n",
    "            t == 'crange'\n",
    "            a,b = best\n",
    "            m = max(np.append(a-min(col),max(col)-b))\n",
    "            x_row = col.shape[0]\n",
    "            for i in range(x_row):\n",
    "                if col[i] < a:\n",
    "                    posit[i] = 1 - (a-col[i]) / m\n",
    "                elif col[i] > b:\n",
    "                    posit[i] = 1 - (col[i]-b) / m\n",
    "                else:\n",
    "                    posit[i] = 1\n",
    "            return posit"
   ]
  },
  {
   "cell_type": "code",
   "execution_count": 60,
   "metadata": {},
   "outputs": [
    {
     "data": {
      "text/html": [
       "<div>\n",
       "<style scoped>\n",
       "    .dataframe tbody tr th:only-of-type {\n",
       "        vertical-align: middle;\n",
       "    }\n",
       "\n",
       "    .dataframe tbody tr th {\n",
       "        vertical-align: top;\n",
       "    }\n",
       "\n",
       "    .dataframe thead th {\n",
       "        text-align: right;\n",
       "    }\n",
       "</style>\n",
       "<table border=\"1\" class=\"dataframe\">\n",
       "  <thead>\n",
       "    <tr style=\"text-align: right;\">\n",
       "      <th></th>\n",
       "      <th>0</th>\n",
       "      <th>1</th>\n",
       "      <th>2</th>\n",
       "      <th>3</th>\n",
       "    </tr>\n",
       "  </thead>\n",
       "  <tbody>\n",
       "    <tr>\n",
       "      <th>14</th>\n",
       "      <td>2.04</td>\n",
       "      <td>6.40</td>\n",
       "      <td>23.0</td>\n",
       "      <td>17.91</td>\n",
       "    </tr>\n",
       "    <tr>\n",
       "      <th>5</th>\n",
       "      <td>2.39</td>\n",
       "      <td>6.77</td>\n",
       "      <td>38.0</td>\n",
       "      <td>24.62</td>\n",
       "    </tr>\n",
       "    <tr>\n",
       "      <th>3</th>\n",
       "      <td>8.61</td>\n",
       "      <td>7.05</td>\n",
       "      <td>46.0</td>\n",
       "      <td>26.43</td>\n",
       "    </tr>\n",
       "    <tr>\n",
       "      <th>17</th>\n",
       "      <td>8.29</td>\n",
       "      <td>8.41</td>\n",
       "      <td>39.0</td>\n",
       "      <td>12.02</td>\n",
       "    </tr>\n",
       "    <tr>\n",
       "      <th>13</th>\n",
       "      <td>2.01</td>\n",
       "      <td>5.55</td>\n",
       "      <td>47.0</td>\n",
       "      <td>26.31</td>\n",
       "    </tr>\n",
       "  </tbody>\n",
       "</table>\n",
       "</div>"
      ],
      "text/plain": [
       "       0     1     2      3\n",
       "14  2.04  6.40  23.0  17.91\n",
       "5   2.39  6.77  38.0  24.62\n",
       "3   8.61  7.05  46.0  26.43\n",
       "17  8.29  8.41  39.0  12.02\n",
       "13  2.01  5.55  47.0  26.31"
      ]
     },
     "execution_count": 60,
     "metadata": {},
     "output_type": "execute_result"
    }
   ],
   "source": [
    "river_data = pd.read_csv('river.csv',header=None)\n",
    "river_data.sample(5)"
   ]
  },
  {
   "cell_type": "code",
   "execution_count": 61,
   "metadata": {},
   "outputs": [],
   "source": [
    "tp = Topsis(X=river_data,cmin=[2],cmedian=[1],best_median=[7],crange=[3],best_range=[[10,20]])"
   ]
  },
  {
   "cell_type": "code",
   "execution_count": 103,
   "metadata": {},
   "outputs": [],
   "source": [
    "def score(processed_x, raw_data):\n",
    "    after_processed = processed_x\n",
    "    temp_mat = after_processed.copy()\n",
    "    temp_mat = temp_mat / temp_mat.mean(axis=0)\n",
    "    main_col = temp_mat.max(axis=1)\n",
    "    temp_mat.insert(0,column='母序列',value=main_col)\n",
    "    corr = gray_analysis(np.array(temp_mat))\n",
    "    col_weight = corr / corr.sum()\n",
    "    object_score = (raw_data *  col_weight).sum(axis=1)\n",
    "    standar_score = object_score / sum(object_score)\n",
    "    return standar_score"
   ]
  },
  {
   "cell_type": "code",
   "execution_count": 104,
   "metadata": {},
   "outputs": [
    {
     "name": "stdout",
     "output_type": "stream",
     "text": [
      "子序列中各个指标的灰色关联度分别为： [0.646 0.607 0.525 0.647]\n"
     ]
    },
    {
     "data": {
      "text/plain": [
       "0     0.057808\n",
       "1     0.028172\n",
       "2     0.055168\n",
       "3     0.071119\n",
       "4     0.069670\n",
       "5     0.057809\n",
       "6     0.045839\n",
       "7     0.062283\n",
       "8     0.031623\n",
       "9     0.030902\n",
       "10    0.025951\n",
       "11    0.045317\n",
       "12    0.043471\n",
       "13    0.064533\n",
       "14    0.040179\n",
       "15    0.064298\n",
       "16    0.056917\n",
       "17    0.053891\n",
       "18    0.051634\n",
       "19    0.043416\n",
       "dtype: float64"
      ]
     },
     "execution_count": 104,
     "metadata": {},
     "output_type": "execute_result"
    }
   ],
   "source": [
    "score(tp.x_mat,river_data)"
   ]
  },
  {
   "cell_type": "code",
   "execution_count": null,
   "metadata": {},
   "outputs": [],
   "source": []
  }
 ],
 "metadata": {
  "kernelspec": {
   "display_name": "Python 3",
   "language": "python",
   "name": "python3"
  },
  "language_info": {
   "codemirror_mode": {
    "name": "ipython",
    "version": 3
   },
   "file_extension": ".py",
   "mimetype": "text/x-python",
   "name": "python",
   "nbconvert_exporter": "python",
   "pygments_lexer": "ipython3",
   "version": "3.7.6"
  },
  "varInspector": {
   "cols": {
    "lenName": 16,
    "lenType": 16,
    "lenVar": 40
   },
   "kernels_config": {
    "python": {
     "delete_cmd_postfix": "",
     "delete_cmd_prefix": "del ",
     "library": "var_list.py",
     "varRefreshCmd": "print(var_dic_list())"
    },
    "r": {
     "delete_cmd_postfix": ") ",
     "delete_cmd_prefix": "rm(",
     "library": "var_list.r",
     "varRefreshCmd": "cat(var_dic_list()) "
    }
   },
   "types_to_exclude": [
    "module",
    "function",
    "builtin_function_or_method",
    "instance",
    "_Feature"
   ],
   "window_display": false
  }
 },
 "nbformat": 4,
 "nbformat_minor": 4
}
