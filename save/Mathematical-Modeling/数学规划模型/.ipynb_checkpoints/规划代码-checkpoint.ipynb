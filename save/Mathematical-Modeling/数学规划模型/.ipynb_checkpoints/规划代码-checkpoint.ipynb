{
 "cells": [
  {
   "cell_type": "code",
   "execution_count": 1,
   "metadata": {},
   "outputs": [],
   "source": [
    "import numpy as np\n",
    "import pandas as pd\n",
    "from scipy.optimize import minimize"
   ]
  },
  {
   "cell_type": "code",
   "execution_count": null,
   "metadata": {},
   "outputs": [],
   "source": [
    "def func10(x):\n",
    "    return ((18511*x[0]-20487.42*x[1]-19445)**2/(10*19445))+(3173*x[0]+4410.74*x[1]-2500)**2/(10*2500)+(8168*x[0]+7985.27*x[1]-7524)**2/(10*7524)+(3843*x[0]+2226.26*x[1]-4018)**2/(10*4018)+(7415*x[0]+8854.47*x[1]-9302)**2/(10*9302)+(4775*x[0]+5449.94*x[1]-5391)**2/(10*5391)+(1736*x[0]+2623.66*x[1]-1301)**2/(10*1301)+(951*x[0]+1101.05*x[1]-635)**2/(10*635)+(1623*x[0]+1260.34*x[1]-1046)**2/(10*1046)+(751*x[0]+786.66*x[1]-616)**2/(10*616)"
   ]
  },
  {
   "cell_type": "code",
   "execution_count": null,
   "metadata": {},
   "outputs": [],
   "source": [
    "def func11(x):\n",
    "    return (18406*x[0]+17195.09*x[1]-16360)**2/(10*16360)+(3090*x[0]+4703.77*x[1]-1524)**2/(10*1524)+(6602*x[0]+7414.8*x[1]-6254)**2/(10*6254)+(2410*x[0]+3351.36*x[1]-2583)**2/(10*2583)+(7326*x[0]+8730.01*x[1]-7325)**2/(10*7325)+(4775*x[0]+7175.31*x[1]-6255)**2/(10*6255)+(1247*x[0]+2973.68*x[1]-967)**2/(10*967)+(826*x[0]+1343.22*x[1]-388)**2/(10*388)+(661*x[0]+750.56*x[1]-587)**2/(10*587)+(583*x[0]+1079.94*x[1]-403)**2/(10*403)"
   ]
  },
  {
   "cell_type": "code",
   "execution_count": null,
   "metadata": {},
   "outputs": [],
   "source": [
    "def func12(x):\n",
    "    return (24257*x[0]+19919.39*x[1]-17573)**2/(10*17573)+(3040*x[0]+2085.13*x[1]-1517)**2/(10*1517)+(8477*x[0]+7906.14*x[1]-6343)**2/(10*6343)+(2976*x[0]+2932.91*x[1]-2620)**2/(10*2620)+(7261*x[0]+11454.6*x[1]-8954)**2/(10*8954)+(4775*x[0]+8048.06*x[1]-6421)**2/(10*6421)+(2196*x[0]+2607.86*x[1]-1315)**2/(10*1315)+(1323*x[0]+1608.9*x[1]-494)**2/(10*494)+(1512*x[0]+564.88*x[1]-634)**2/(10*634)+(1109*x[0]+1074.51*x[1]-418)**2/(10*418)"
   ]
  },
  {
   "cell_type": "code",
   "execution_count": 48,
   "metadata": {},
   "outputs": [],
   "source": [
    "net_max = pd.read_excel('神经网络.xlsx', header=None)\n",
    "time_max = pd.read_excel('时间序列.xlsx', header=None)\n",
    "real_max = pd.read_excel('真实.xlsx', header=None)\n",
    "net_pre = pd.read_excel('神经网络预测.xlsx', header=None)\n",
    "time_pre = pd.read_excel('时间序列预测.xlsx', header=None)\n",
    "pre_real = pd.read_excel('预测真实.xlsx', header=None)"
   ]
  },
  {
   "cell_type": "code",
   "execution_count": 49,
   "metadata": {},
   "outputs": [],
   "source": [
    "net = np.array(net_max)\n",
    "time  = np.array(time_max)\n",
    "real  = np.array(real_max)\n",
    "netp = np.array(net_pre)\n",
    "timep = np.array(time_pre)\n",
    "prl = np.array(pre_real)"
   ]
  },
  {
   "cell_type": "code",
   "execution_count": 42,
   "metadata": {},
   "outputs": [
    {
     "name": "stdout",
     "output_type": "stream",
     "text": [
      "0.0335742731672297 --- [0.20330215 0.71580218] --- 64\n"
     ]
    }
   ],
   "source": [
    "min_ = 10\n",
    "coef = -1\n",
    "week = -1\n",
    "for j in range(91):\n",
    "    def func(x):\n",
    "        sum_ = 0\n",
    "        for i in range(10):\n",
    "            sum_ += np.abs(x[0]*net[j,i]+x[1]*time[j,i]-real[j,i])/(10*real[j,i])\n",
    "        return sum_\n",
    "    x0 = [0, 0]\n",
    "    res = minimize(func, x0, method='SLSQP')\n",
    "    temp = res.fun\n",
    "    if temp <= min_:\n",
    "        min_ = temp\n",
    "        coef = res.x\n",
    "        week = j\n",
    "print(min_,'---',coef,'---',week)"
   ]
  },
  {
   "cell_type": "code",
   "execution_count": 45,
   "metadata": {},
   "outputs": [],
   "source": [
    "a = 0.20330215\n",
    "b = 0.71580218"
   ]
  },
  {
   "cell_type": "code",
   "execution_count": 65,
   "metadata": {},
   "outputs": [],
   "source": [
    "week_list = []\n",
    "sum_ = 0\n",
    "for j in range(12):\n",
    "    for i in range(10):\n",
    "        sum_ += np.abs(a*netp[j,i]+b*timep[j,i]-prl[j,i])/(10*prl[j,i])\n",
    "    week_list.append(sum_)"
   ]
  },
  {
   "cell_type": "markdown",
   "metadata": {},
   "source": [
    "### 组合预测结果"
   ]
  },
  {
   "cell_type": "code",
   "execution_count": 64,
   "metadata": {},
   "outputs": [],
   "source": [
    "week_pre = np.zeros((12,10))"
   ]
  },
  {
   "cell_type": "code",
   "execution_count": 59,
   "metadata": {},
   "outputs": [],
   "source": [
    "for j in range(12):\n",
    "    for i in range(10):\n",
    "        week_pre[j,i] = a*netp[j,i]+b*timep[j,i]"
   ]
  },
  {
   "cell_type": "code",
   "execution_count": 63,
   "metadata": {},
   "outputs": [],
   "source": [
    "pd.DataFrame(week_pre).to_csv('tiny_week_pre.csv')"
   ]
  }
 ],
 "metadata": {
  "kernelspec": {
   "display_name": "Python 3",
   "language": "python",
   "name": "python3"
  },
  "language_info": {
   "codemirror_mode": {
    "name": "ipython",
    "version": 3
   },
   "file_extension": ".py",
   "mimetype": "text/x-python",
   "name": "python",
   "nbconvert_exporter": "python",
   "pygments_lexer": "ipython3",
   "version": "3.7.6"
  }
 },
 "nbformat": 4,
 "nbformat_minor": 4
}
