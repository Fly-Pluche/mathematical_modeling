{
 "cells": [
  {
   "cell_type": "code",
   "execution_count": 2,
   "metadata": {},
   "outputs": [],
   "source": [
    "import matplotlib.pyplot as plt\n",
    "import PyQt5\n",
    "import numpy as np\n",
    "%matplotlib qt5"
   ]
  },
  {
   "cell_type": "code",
   "execution_count": 9,
   "metadata": {},
   "outputs": [
    {
     "name": "stdout",
     "output_type": "stream",
     "text": [
      "导弹射中\n",
      "导弹飞行时间为： 166.81680000009246 秒\n",
      "击中时船的坐标[26.55318280532808,6.553182805328081]\n"
     ]
    }
   ],
   "source": [
    "v = 200  # 定义速度v\n",
    "dt = 0.000001  # 定义间隔时间\n",
    "x = [0,20]  # 导弹、船的初始横坐标\n",
    "y = [0,0]  # 导弹、船的初始纵坐标\n",
    "t = 0  # 初始化导弹飞行时间\n",
    "d = 0  # 初始化导弹飞行距离\n",
    "m = (2**0.5) / 2  #二分之根号二\n",
    "dd = ((x[1]-x[0])**2+(y[1]-y[0])**2) ** 0.5  # 导弹与船间的距离\n",
    "plt.xlim((0, 30))  # 固定横坐标轴\n",
    "plt.ylim((0, 10))  # 固定纵坐标轴\n",
    "plt.scatter(x[0], y[0], s=20)\n",
    "plt.scatter(x[1], y[1], s=20)\n",
    "k = 0\n",
    "while dd >= 0.001:  # 假定当导弹与船的距离小于0.001则代表击中\n",
    "    t += dt\n",
    "    d += 3*v*dt\n",
    "    x[1] = 20 + t*v*m  # 更新船的坐标\n",
    "    y[1] = t*v*m\n",
    "    dd = ((x[1]-x[0])**2+(y[1]-y[0])**2) ** 0.5  # 更新两者间的距离\n",
    "    tan_alpha = (y[1]-y[0]) / (x[1]-x[0])  # tanα\n",
    "    cos_alpha = (1 / (1 + tan_alpha**2)) ** 0.5  # cosα\n",
    "    sin_alpha = (1-cos_alpha**2) ** 0.5  # sinα\n",
    "    # 更新导弹坐标\n",
    "    x[0] = x[0] + 3*v*dt*cos_alpha\n",
    "    y[0] = y[0] + 3*v*dt*sin_alpha\n",
    "    k += 1\n",
    "    if k % 1000 == 0:  # 每执行1000次循环画一次图\n",
    "        plt.scatter(x[0], y[0], s=5)\n",
    "        plt.scatter(x[1], y[1], s=5)\n",
    "        plt.pause(0.000001)  # 暂停间隔\n",
    "    if d > 50:\n",
    "        print('没有击中')\n",
    "        break\n",
    "    if d <= 50 and dd < 0.001:\n",
    "        print('导弹射中')\n",
    "        print('导弹飞行时间为：',t*3600,'秒')\n",
    "        print('击中时船的坐标[{0},{1}]'.format(x[1],y[1]))"
   ]
  },
  {
   "cell_type": "code",
   "execution_count": null,
   "metadata": {},
   "outputs": [],
   "source": []
  }
 ],
 "metadata": {
  "kernelspec": {
   "display_name": "Python 3",
   "language": "python",
   "name": "python3"
  },
  "language_info": {
   "codemirror_mode": {
    "name": "ipython",
    "version": 3
   },
   "file_extension": ".py",
   "mimetype": "text/x-python",
   "name": "python",
   "nbconvert_exporter": "python",
   "pygments_lexer": "ipython3",
   "version": "3.7.7"
  }
 },
 "nbformat": 4,
 "nbformat_minor": 4
}
