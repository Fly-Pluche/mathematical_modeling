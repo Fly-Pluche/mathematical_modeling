{
 "cells": [
  {
   "cell_type": "code",
   "execution_count": 13,
   "metadata": {},
   "outputs": [],
   "source": [
    "import numpy as np\n",
    "from scipy.stats import expon, norm"
   ]
  },
  {
   "cell_type": "markdown",
   "metadata": {},
   "source": [
    "假设某银⾏⼯作时间只有⼀个服务窗⼝，⼯作⼈员只能逐个的接待顾客。当来的顾客较多时，⼀部分顾客就需要排队等待。\n",
    "假设：\n",
    "- 1) 顾客到来的间隔时间服从参数为$0.1$的指数分布 \n",
    "- 2) 每个顾客的服务时间服从均值为10，⽅差为4的正态分布（单位为分钟，若服务时间⼩于1分钟，则按1分钟计算）\n",
    "- 3) 排队按先到先服务的规则，且不限制队伍的⻓度，每天⼯作时⻓为8⼩时。\n",
    "\n",
    "试回答下⾯的问题： \n",
    "- 1) 模拟⼀个⼯作⽇，在这个⼯作⽇共接待了多少客户，客户平均等待的时间为多少? \n",
    "- 2) 模拟100个⼯作⽇，计算出平均每⽇接待客户的个数以及每⽇客户的平均等待时⻓。"
   ]
  },
  {
   "cell_type": "markdown",
   "metadata": {},
   "source": [
    "引入符号：\n",
    "- $c_i$：第$i$个顾客到达的时间\n",
    "- $b_i$：第$i$个顾客开始服务的时间\n",
    "- $e_i$：第$i$个顾客结束服务的时间\n",
    "\n",
    "从而，第$i$个顾客等待的时间为$b_i-c_i$\n",
    "\n",
    "题目中的假设可以得到：\n",
    "- 第$i-1$个顾客和第$i$个顾客到达的时间间隔$x_i$~$E\\left( 0.1 \\right)$\n",
    "- 第$i$个顾客服务持续的时间$y_i$~$N(10,4)$（若$y_i<1$，则令$y_i=1$）\n",
    "\n",
    "进一步：\n",
    "- $c_i=c_{i-1}+x_i$（$c_0=0$)\n",
    "- $e_i=b_i+y_i$（$e_0=0$）\n",
    "- $b_i=max(c_i,e_{i-1})$（$b_1=c_1$）"
   ]
  },
  {
   "cell_type": "code",
   "execution_count": 19,
   "metadata": {},
   "outputs": [
    {
     "name": "stdout",
     "output_type": "stream",
     "text": [
      "共服务了42人\n",
      "平均等待时间为： 0.4520486056120968\n"
     ]
    }
   ],
   "source": [
    "# 初始化向量与初值\n",
    "i = 1\n",
    "w = 0\n",
    "e = np.zeros(100)\n",
    "c = np.zeros(100)\n",
    "b = np.zeros(100)\n",
    "x = np.zeros(100)\n",
    "y= np.zeros(100)\n",
    "wait = np.zeros(100)\n",
    "# 假想第0个人的各参数均为0\n",
    "e[0] = 0\n",
    "c[0] =0\n",
    "b[0] = 0\n",
    "x[0] = 0\n",
    "y[0] = 0\n",
    "wait[0] = 0\n",
    "x[1] = expon.rvs(10)\n",
    "c[1] = c[0] + x[1]\n",
    "b[1] = c[1]\n",
    "while b[i] <= 480:  # 限定条件，工作8小时\n",
    "    y[i] = norm.rvs(loc=10, scale=2, size=1)  # 服务持续时间\n",
    "    if y[i] < 1:\n",
    "        y[i] = 1\n",
    "    e[i] = b[i] + y[i]  # 第i个人的结束时间\n",
    "    wait[i] = b[i] - c[i]  # 第i个人的等待时间\n",
    "    w += wait[i]\n",
    "    i += 1\n",
    "    x[i] = expon.rvs(10)  # 下一个人与上一个人的到达时间间隔\n",
    "    c[i] = c[i-1] + x[i]  # 下一个人的到达时间\n",
    "    b[i] = max(c[i], e[i-1])  # 下一个人的开始时间\n",
    "n = i-1\n",
    "print('共服务了{}人'.format(n))\n",
    "print('平均等待时间为：',w/n)"
   ]
  },
  {
   "cell_type": "code",
   "execution_count": null,
   "metadata": {},
   "outputs": [],
   "source": []
  }
 ],
 "metadata": {
  "kernelspec": {
   "display_name": "Python 3",
   "language": "python",
   "name": "python3"
  },
  "language_info": {
   "codemirror_mode": {
    "name": "ipython",
    "version": 3
   },
   "file_extension": ".py",
   "mimetype": "text/x-python",
   "name": "python",
   "nbconvert_exporter": "python",
   "pygments_lexer": "ipython3",
   "version": "3.7.6"
  }
 },
 "nbformat": 4,
 "nbformat_minor": 4
}
