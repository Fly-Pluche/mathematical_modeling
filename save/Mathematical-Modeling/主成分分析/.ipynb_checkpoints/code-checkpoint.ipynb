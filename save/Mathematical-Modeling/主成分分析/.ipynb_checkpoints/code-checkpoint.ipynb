{
 "cells": [
  {
   "cell_type": "code",
   "execution_count": 1,
   "metadata": {},
   "outputs": [],
   "source": [
    "import pandas as pd\n",
    "import numpy as np\n",
    "import scipy\n",
    "np.set_printoptions(suppress=True)  # 不使用用科学计数法"
   ]
  },
  {
   "cell_type": "code",
   "execution_count": 2,
   "metadata": {},
   "outputs": [
    {
     "data": {
      "text/html": [
       "<div>\n",
       "<style scoped>\n",
       "    .dataframe tbody tr th:only-of-type {\n",
       "        vertical-align: middle;\n",
       "    }\n",
       "\n",
       "    .dataframe tbody tr th {\n",
       "        vertical-align: top;\n",
       "    }\n",
       "\n",
       "    .dataframe thead th {\n",
       "        text-align: right;\n",
       "    }\n",
       "</style>\n",
       "<table border=\"1\" class=\"dataframe\">\n",
       "  <thead>\n",
       "    <tr style=\"text-align: right;\">\n",
       "      <th></th>\n",
       "      <th>食品</th>\n",
       "      <th>衣着</th>\n",
       "      <th>家庭设备</th>\n",
       "      <th>医疗</th>\n",
       "      <th>交通</th>\n",
       "      <th>娱乐</th>\n",
       "      <th>居住</th>\n",
       "      <th>杂项</th>\n",
       "    </tr>\n",
       "    <tr>\n",
       "      <th>省份</th>\n",
       "      <th></th>\n",
       "      <th></th>\n",
       "      <th></th>\n",
       "      <th></th>\n",
       "      <th></th>\n",
       "      <th></th>\n",
       "      <th></th>\n",
       "      <th></th>\n",
       "    </tr>\n",
       "  </thead>\n",
       "  <tbody>\n",
       "    <tr>\n",
       "      <th>北京</th>\n",
       "      <td>2959.19</td>\n",
       "      <td>730.79</td>\n",
       "      <td>749.41</td>\n",
       "      <td>513.34</td>\n",
       "      <td>467.87</td>\n",
       "      <td>1141.82</td>\n",
       "      <td>478.42</td>\n",
       "      <td>457.64</td>\n",
       "    </tr>\n",
       "    <tr>\n",
       "      <th>天津</th>\n",
       "      <td>2459.77</td>\n",
       "      <td>495.47</td>\n",
       "      <td>697.33</td>\n",
       "      <td>302.87</td>\n",
       "      <td>284.19</td>\n",
       "      <td>735.97</td>\n",
       "      <td>570.84</td>\n",
       "      <td>305.08</td>\n",
       "    </tr>\n",
       "    <tr>\n",
       "      <th>河北</th>\n",
       "      <td>1495.63</td>\n",
       "      <td>515.90</td>\n",
       "      <td>362.37</td>\n",
       "      <td>285.32</td>\n",
       "      <td>272.95</td>\n",
       "      <td>540.58</td>\n",
       "      <td>364.91</td>\n",
       "      <td>188.63</td>\n",
       "    </tr>\n",
       "    <tr>\n",
       "      <th>山西</th>\n",
       "      <td>1406.33</td>\n",
       "      <td>477.77</td>\n",
       "      <td>290.15</td>\n",
       "      <td>208.57</td>\n",
       "      <td>201.50</td>\n",
       "      <td>414.72</td>\n",
       "      <td>281.84</td>\n",
       "      <td>212.10</td>\n",
       "    </tr>\n",
       "    <tr>\n",
       "      <th>内蒙古</th>\n",
       "      <td>1303.97</td>\n",
       "      <td>524.29</td>\n",
       "      <td>254.83</td>\n",
       "      <td>192.17</td>\n",
       "      <td>249.81</td>\n",
       "      <td>463.09</td>\n",
       "      <td>287.87</td>\n",
       "      <td>192.96</td>\n",
       "    </tr>\n",
       "  </tbody>\n",
       "</table>\n",
       "</div>"
      ],
      "text/plain": [
       "          食品      衣着    家庭设备      医疗      交通       娱乐      居住      杂项\n",
       "省份                                                                   \n",
       "北京   2959.19  730.79  749.41  513.34  467.87  1141.82  478.42  457.64\n",
       "天津   2459.77  495.47  697.33  302.87  284.19   735.97  570.84  305.08\n",
       "河北   1495.63  515.90  362.37  285.32  272.95   540.58  364.91  188.63\n",
       "山西   1406.33  477.77  290.15  208.57  201.50   414.72  281.84  212.10\n",
       "内蒙古  1303.97  524.29  254.83  192.17  249.81   463.09  287.87  192.96"
      ]
     },
     "execution_count": 2,
     "metadata": {},
     "output_type": "execute_result"
    }
   ],
   "source": [
    "data = pd.read_excel('cost_data.xlsx', index_col=0)\n",
    "data.head()"
   ]
  },
  {
   "cell_type": "code",
   "execution_count": 3,
   "metadata": {},
   "outputs": [],
   "source": [
    "n, p = data.shape"
   ]
  },
  {
   "cell_type": "code",
   "execution_count": 4,
   "metadata": {},
   "outputs": [],
   "source": [
    "from sklearn import preprocessing"
   ]
  },
  {
   "cell_type": "code",
   "execution_count": 5,
   "metadata": {},
   "outputs": [
    {
     "data": {
      "text/plain": [
       "array([[ 1.69488545,  2.03984178,  1.99671653,  3.16637065,  1.24440716,\n",
       "         3.06954422,  0.29048958,  2.47730489],\n",
       "       [ 0.82985324,  0.05398222,  1.70248398,  0.68876328, -0.21284727,\n",
       "         0.89256207,  0.8492248 ,  0.71613656],\n",
       "       [-0.84010823,  0.22639047, -0.18991493,  0.48216847, -0.30202159,\n",
       "        -0.15551121, -0.39574754, -0.62817422],\n",
       "       [-0.99478241, -0.09538764, -0.59793096, -0.42131594, -0.86888151,\n",
       "        -0.8306251 , -0.89795631, -0.35723412],\n",
       "       [-1.17207746,  0.29719347, -0.79747577, -0.6143732 , -0.48560645,\n",
       "        -0.57116809, -0.86150129, -0.57818825],\n",
       "       [-0.43270719,  0.54707152, -0.84222081,  0.41730594, -0.56994125,\n",
       "        -0.66713017, -0.60534882, -0.91412165],\n",
       "       [-0.72539299,  0.02824334, -1.10447648, -0.30607018, -0.71663459,\n",
       "        -0.5897812 , -0.42252959, -1.0999817 ],\n",
       "       [-0.98823517,  0.18259219, -1.04012723,  0.38552213, -0.68521731,\n",
       "        -1.03392096, -0.68170487, -1.04122222],\n",
       "       [ 2.99934474,  0.52040436,  2.81003677,  1.20742808,  1.7135244 ,\n",
       "         2.49645374,  1.75298295,  2.5279835 ],\n",
       "       [ 0.39304159, -0.33505452,  0.99667613, -0.38188047, -0.07083478,\n",
       "         0.08399169, -0.00362932,  0.10960939],\n",
       "       [ 1.12324919,  0.57593281,  1.65954682,  2.25229162,  1.61562306,\n",
       "         1.21386608,  0.8789692 ,  0.92716276],\n",
       "       [-0.23535472, -0.49607017, -0.70453941, -1.38942746, -0.47965621,\n",
       "        -0.30248499, -0.70352952, -1.05807661],\n",
       "       [ 1.2623347 , -0.51446713, -0.34951688, -0.98400722,  0.74672875,\n",
       "        -0.57878498,  0.63333609, -0.12415869],\n",
       "       [-0.72206741, -1.56478194, -0.91623092, -1.60638143, -0.8038255 ,\n",
       "        -0.94182096,  0.4777221 , -0.95729659],\n",
       "       [-0.52812713,  1.0485154 ,  0.87413573, -0.28923653, -0.30487771,\n",
       "         0.16016059, -0.3551815 , -0.36023559],\n",
       "       [-0.9578546 , -0.4834117 , -0.60697036, -0.42637781, -0.7459098 ,\n",
       "        -1.24343906, -0.05477517, -0.89726726],\n",
       "       [-0.06656415,  0.19575699,  0.0305335 , -0.45086312,  0.08149147,\n",
       "         0.68470681,  0.37621632, -0.19157625],\n",
       "       [-0.34161744,  0.19246579, -0.63922973, -0.51031063, -0.58247643,\n",
       "         0.25837555,  0.56314657, -0.69870869],\n",
       "       [ 1.86112988, -1.14637757,  0.95238306,  1.31737654,  3.9736651 ,\n",
       "         1.62791376,  3.9444559 ,  2.05213558],\n",
       "       [ 0.09216308, -1.58866424, -0.32392407, -1.01920485,  0.143136  ,\n",
       "         0.27983158,  0.94704276, -0.28600701],\n",
       "       [ 0.13371553, -2.55391419, -1.09187781, -0.85428216,  0.14781686,\n",
       "        -0.49564288, -0.70999832,  0.41725974],\n",
       "       [ 0.55881836,  0.85163412,  0.67922362, -0.09194143,  0.73704969,\n",
       "         0.86080715,  0.04860475, -0.19907992],\n",
       "       [-0.01105119,  0.15769722, -0.28923536, -0.48441271, -0.56153157,\n",
       "         0.02965431, -0.00006241, -0.22609312],\n",
       "       [-0.53147003, -0.43311541,  0.37075401, -1.07170701, -0.44712821,\n",
       "        -0.66503821, -0.509405  , -0.59527353],\n",
       "       [ 0.36995305,  0.40453723, -0.15206243,  0.06097404, -0.16008844,\n",
       "        -0.04109694, -0.13705592,  1.0147825 ],\n",
       "       [ 1.15347387,  2.95893054, -1.08216045, -0.41495918,  0.54172301,\n",
       "        -1.06492492, -0.97201503,  1.68872722],\n",
       "       [-0.87939166, -0.82856578,  0.29358011,  0.17833873, -0.6379327 ,\n",
       "        -0.42199506,  0.2341445 , -0.5968897 ],\n",
       "       [-0.78824995, -0.13581033, -0.37900793, -0.2884125 , -0.82802316,\n",
       "        -0.64304578, -1.09250402, -0.17148951],\n",
       "       [-0.5646046 , -0.43294663, -0.77515974,  0.69029361, -0.52432271,\n",
       "        -0.48298382, -0.85732982, -0.07544257],\n",
       "       [-1.04825152, -0.06905804, -0.69007637,  0.85886556, -0.47553071,\n",
       "        -0.77682411, -1.21903863, -0.54390227],\n",
       "       [-0.64405482,  0.39643582,  0.20606739, -0.10053483, -0.48187763,\n",
       "        -0.15164912, -0.51702247, -0.33068269]])"
      ]
     },
     "execution_count": 5,
     "metadata": {},
     "output_type": "execute_result"
    }
   ],
   "source": [
    "# 标准化\n",
    "scale_data = preprocessing.scale(data)\n",
    "scale_data"
   ]
  },
  {
   "cell_type": "code",
   "execution_count": 6,
   "metadata": {},
   "outputs": [
    {
     "data": {
      "text/html": [
       "<div>\n",
       "<style scoped>\n",
       "    .dataframe tbody tr th:only-of-type {\n",
       "        vertical-align: middle;\n",
       "    }\n",
       "\n",
       "    .dataframe tbody tr th {\n",
       "        vertical-align: top;\n",
       "    }\n",
       "\n",
       "    .dataframe thead th {\n",
       "        text-align: right;\n",
       "    }\n",
       "</style>\n",
       "<table border=\"1\" class=\"dataframe\">\n",
       "  <thead>\n",
       "    <tr style=\"text-align: right;\">\n",
       "      <th></th>\n",
       "      <th>食品</th>\n",
       "      <th>衣着</th>\n",
       "      <th>家庭设备</th>\n",
       "      <th>医疗</th>\n",
       "      <th>交通</th>\n",
       "      <th>娱乐</th>\n",
       "      <th>居住</th>\n",
       "      <th>杂项</th>\n",
       "    </tr>\n",
       "  </thead>\n",
       "  <tbody>\n",
       "    <tr>\n",
       "      <th>食品</th>\n",
       "      <td>1.000000</td>\n",
       "      <td>0.247335</td>\n",
       "      <td>0.697829</td>\n",
       "      <td>0.467764</td>\n",
       "      <td>0.827841</td>\n",
       "      <td>0.768640</td>\n",
       "      <td>0.670024</td>\n",
       "      <td>0.877200</td>\n",
       "    </tr>\n",
       "    <tr>\n",
       "      <th>衣着</th>\n",
       "      <td>0.247335</td>\n",
       "      <td>1.000000</td>\n",
       "      <td>0.257853</td>\n",
       "      <td>0.423299</td>\n",
       "      <td>0.085897</td>\n",
       "      <td>0.255185</td>\n",
       "      <td>-0.201148</td>\n",
       "      <td>0.349273</td>\n",
       "    </tr>\n",
       "    <tr>\n",
       "      <th>家庭设备</th>\n",
       "      <td>0.697829</td>\n",
       "      <td>0.257853</td>\n",
       "      <td>1.000000</td>\n",
       "      <td>0.620801</td>\n",
       "      <td>0.585316</td>\n",
       "      <td>0.856427</td>\n",
       "      <td>0.568594</td>\n",
       "      <td>0.667425</td>\n",
       "    </tr>\n",
       "    <tr>\n",
       "      <th>医疗</th>\n",
       "      <td>0.467764</td>\n",
       "      <td>0.423299</td>\n",
       "      <td>0.620801</td>\n",
       "      <td>1.000000</td>\n",
       "      <td>0.531256</td>\n",
       "      <td>0.683612</td>\n",
       "      <td>0.313975</td>\n",
       "      <td>0.628222</td>\n",
       "    </tr>\n",
       "    <tr>\n",
       "      <th>交通</th>\n",
       "      <td>0.827841</td>\n",
       "      <td>0.085897</td>\n",
       "      <td>0.585316</td>\n",
       "      <td>0.531256</td>\n",
       "      <td>1.000000</td>\n",
       "      <td>0.708123</td>\n",
       "      <td>0.800426</td>\n",
       "      <td>0.776291</td>\n",
       "    </tr>\n",
       "    <tr>\n",
       "      <th>娱乐</th>\n",
       "      <td>0.768640</td>\n",
       "      <td>0.255185</td>\n",
       "      <td>0.856427</td>\n",
       "      <td>0.683612</td>\n",
       "      <td>0.708123</td>\n",
       "      <td>1.000000</td>\n",
       "      <td>0.647201</td>\n",
       "      <td>0.744887</td>\n",
       "    </tr>\n",
       "    <tr>\n",
       "      <th>居住</th>\n",
       "      <td>0.670024</td>\n",
       "      <td>-0.201148</td>\n",
       "      <td>0.568594</td>\n",
       "      <td>0.313975</td>\n",
       "      <td>0.800426</td>\n",
       "      <td>0.647201</td>\n",
       "      <td>1.000000</td>\n",
       "      <td>0.525033</td>\n",
       "    </tr>\n",
       "    <tr>\n",
       "      <th>杂项</th>\n",
       "      <td>0.877200</td>\n",
       "      <td>0.349273</td>\n",
       "      <td>0.667425</td>\n",
       "      <td>0.628222</td>\n",
       "      <td>0.776291</td>\n",
       "      <td>0.744887</td>\n",
       "      <td>0.525033</td>\n",
       "      <td>1.000000</td>\n",
       "    </tr>\n",
       "  </tbody>\n",
       "</table>\n",
       "</div>"
      ],
      "text/plain": [
       "            食品        衣着      家庭设备        医疗        交通        娱乐        居住  \\\n",
       "食品    1.000000  0.247335  0.697829  0.467764  0.827841  0.768640  0.670024   \n",
       "衣着    0.247335  1.000000  0.257853  0.423299  0.085897  0.255185 -0.201148   \n",
       "家庭设备  0.697829  0.257853  1.000000  0.620801  0.585316  0.856427  0.568594   \n",
       "医疗    0.467764  0.423299  0.620801  1.000000  0.531256  0.683612  0.313975   \n",
       "交通    0.827841  0.085897  0.585316  0.531256  1.000000  0.708123  0.800426   \n",
       "娱乐    0.768640  0.255185  0.856427  0.683612  0.708123  1.000000  0.647201   \n",
       "居住    0.670024 -0.201148  0.568594  0.313975  0.800426  0.647201  1.000000   \n",
       "杂项    0.877200  0.349273  0.667425  0.628222  0.776291  0.744887  0.525033   \n",
       "\n",
       "            杂项  \n",
       "食品    0.877200  \n",
       "衣着    0.349273  \n",
       "家庭设备  0.667425  \n",
       "医疗    0.628222  \n",
       "交通    0.776291  \n",
       "娱乐    0.744887  \n",
       "居住    0.525033  \n",
       "杂项    1.000000  "
      ]
     },
     "execution_count": 6,
     "metadata": {},
     "output_type": "execute_result"
    }
   ],
   "source": [
    "cor = data.corr()\n",
    "cor"
   ]
  },
  {
   "cell_type": "code",
   "execution_count": 13,
   "metadata": {},
   "outputs": [
    {
     "data": {
      "image/png": "[encoded data removed]",
      "text/plain": [
       "<Figure size 720x720 with 2 Axes>"
      ]
     },
     "metadata": {
      "needs_background": "light"
     },
     "output_type": "display_data"
    }
   ],
   "source": [
    "import matplotlib.pyplot as plt\n",
    "import seaborn as sns\n",
    "fig, ax = plt.subplots(figsize = (10,10))\n",
    "\n",
    "# cor：相关系数矩阵\n",
    "# cmap：颜色\n",
    "# xticklabels：显示x轴标签\n",
    "# yticklabels：显示y轴标签\n",
    "# annot：方块中显示数据\n",
    "# square：方块为正方形\n",
    "\n",
    "sns.heatmap(cor, cmap='YlGnBu', xticklabels=True, yticklabels=True,\n",
    "            annot=True, square=True)\n",
    "# 支持显示中文\n",
    "plt.rcParams['font.family'] = ['sans-serif']\n",
    "plt.rcParams['font.sans-serif'] = ['SimHei']\n",
    "plt.rcParams['axes.unicode_minus']=False\n",
    "#sns.set(font='SimHei') "
   ]
  },
  {
   "cell_type": "code",
   "execution_count": 14,
   "metadata": {},
   "outputs": [],
   "source": [
    "V,E = np.linalg.eig(cor) # V是特征值，E是特征值对应的特征向量"
   ]
  },
  {
   "cell_type": "code",
   "execution_count": 15,
   "metadata": {},
   "outputs": [],
   "source": [
    "lamb = np.array(sorted(V, reverse=True))"
   ]
  },
  {
   "cell_type": "code",
   "execution_count": 19,
   "metadata": {},
   "outputs": [
    {
     "data": {
      "text/plain": [
       "array([0.63721252, 0.16903311, 0.07184047, 0.05078642, 0.0351585 ,\n",
       "       0.0152846 , 0.01158471, 0.00909967])"
      ]
     },
     "execution_count": 19,
     "metadata": {},
     "output_type": "execute_result"
    }
   ],
   "source": [
    "# 贡献率\n",
    "contribution_rate = lamb / sum(lamb)\n",
    "contribution_rate"
   ]
  },
  {
   "cell_type": "code",
   "execution_count": 20,
   "metadata": {},
   "outputs": [
    {
     "data": {
      "text/plain": [
       "array([0.63721252, 0.80624563, 0.87808609, 0.92887251, 0.96403102,\n",
       "       0.97931561, 0.99090033, 1.        ])"
      ]
     },
     "execution_count": 20,
     "metadata": {},
     "output_type": "execute_result"
    }
   ],
   "source": [
    "# 累计贡献率\n",
    "cum_contri_rate = np.cumsum(contribution_rate)\n",
    "cum_contri_rate"
   ]
  },
  {
   "cell_type": "code",
   "execution_count": 23,
   "metadata": {},
   "outputs": [
    {
     "data": {
      "text/plain": [
       "array([[-0.4010431 ,  0.07719669, -0.41506179,  0.20922468,  0.22055049,\n",
       "         0.04511612, -0.06531118, -0.74980685],\n",
       "       [-0.13203299, -0.74919328, -0.33178971,  0.15185233, -0.52931275,\n",
       "        -0.01483457,  0.06693221,  0.05710708],\n",
       "       [-0.37512348, -0.06507294,  0.44170779,  0.54656951,  0.06969386,\n",
       "        -0.55922509, -0.18079022,  0.10454111],\n",
       "       [-0.31999224, -0.34468723,  0.47772575, -0.65880842,  0.0605435 ,\n",
       "        -0.09266968,  0.09498426, -0.30865849],\n",
       "       [-0.38780472,  0.23175693, -0.27913197, -0.36564373, -0.21399823,\n",
       "        -0.10260022, -0.67325682,  0.27329367],\n",
       "       [-0.40582874, -0.0271541 ,  0.30982525,  0.23346534, -0.00351645,\n",
       "         0.80625104, -0.08645095,  0.16291432],\n",
       "       [-0.32629298,  0.49602854,  0.03393482, -0.02643706, -0.58038483,\n",
       "        -0.09179316,  0.54750822, -0.0245009 ],\n",
       "       [-0.3963111 , -0.09598645, -0.34533131, -0.10723257,  0.52915838,\n",
       "        -0.08620082,  0.43477999,  0.47591886]])"
      ]
     },
     "execution_count": 23,
     "metadata": {},
     "output_type": "execute_result"
    }
   ],
   "source": [
    "# 按照特征值递减对特征向量排序的结果\n",
    "A = E[:,V.argsort()[::-1]]\n",
    "A"
   ]
  },
  {
   "cell_type": "code",
   "execution_count": 44,
   "metadata": {},
   "outputs": [],
   "source": [
    "m = 2\n",
    "F = np.zeros((n,m))\n",
    "for i in range(m):\n",
    "    ai = A[:,i]\n",
    "    Fi = (ai * scale_data).sum(axis=1)\n",
    "    F[:,i] = Fi"
   ]
  },
  {
   "cell_type": "code",
   "execution_count": 45,
   "metadata": {},
   "outputs": [
    {
     "data": {
      "text/plain": [
       "array([[-5.51614217, -2.50738325],\n",
       "       [-2.03956809, -0.04563995],\n",
       "       [ 0.78229835, -0.59008148],\n",
       "       [ 1.87928129, -0.41113554],\n",
       "       [ 1.85692193, -0.51833926],\n",
       "       [ 1.33526901, -0.85879963],\n",
       "       [ 1.89050778, -0.1538611 ],\n",
       "       [ 1.95943754, -0.64721626],\n",
       "       [-5.96355492,  0.19882326],\n",
       "       [-0.41393758,  0.31711635],\n",
       "       [-3.64317865, -0.54063248],\n",
       "       [ 1.82643459,  0.52788853],\n",
       "       [-0.20448234,  1.35964846],\n",
       "       [ 2.27136755,  1.89803737],\n",
       "       [ 0.14990156, -1.00010576],\n",
       "       [ 1.97945406,  0.39454008],\n",
       "       [-0.22264185,  0.20691787],\n",
       "       [ 0.72886313,  0.25132273],\n",
       "       [-5.67583781,  3.12277958],\n",
       "       [ 0.25570572,  2.09250406],\n",
       "       [ 1.17665275,  1.94469519],\n",
       "       [-1.13405967, -0.41674742],\n",
       "       [ 0.54247165, -0.04247969],\n",
       "       [ 1.31960613,  0.34762932],\n",
       "       [-0.44293622, -0.48701392],\n",
       "       [-0.44454694, -2.404093  ],\n",
       "       [ 0.87368151,  0.50934383],\n",
       "       [ 1.57503552, -0.53491812],\n",
       "       [ 1.06246901, -0.4331374 ],\n",
       "       [ 1.52653437, -0.92190271],\n",
       "       [ 0.7089928 , -0.65775971]])"
      ]
     },
     "execution_count": 45,
     "metadata": {},
     "output_type": "execute_result"
    }
   ],
   "source": [
    "F"
   ]
  }
 ],
 "metadata": {
  "kernelspec": {
   "display_name": "Python 3",
   "language": "python",
   "name": "python3"
  },
  "language_info": {
   "codemirror_mode": {
    "name": "ipython",
    "version": 3
   },
   "file_extension": ".py",
   "mimetype": "text/x-python",
   "name": "python",
   "nbconvert_exporter": "python",
   "pygments_lexer": "ipython3",
   "version": "3.7.6"
  }
 },
 "nbformat": 4,
 "nbformat_minor": 4
}
