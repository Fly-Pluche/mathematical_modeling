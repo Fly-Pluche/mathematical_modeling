{
 "cells": [
  {
   "cell_type": "code",
   "execution_count": 1,
   "metadata": {},
   "outputs": [],
   "source": [
    "import os\n",
    "\n",
    "import pandas as pd\n",
    "import matplotlib.pylab as plt\n",
    "import pylab as mpl  #导入中文字体，避免显示乱码\n",
    "import matplotlib.dates as mdate\n",
    "import numpy as np\n",
    "mpl.rcParams['font.sans-serif']=['SimHei']  #设置为黑体字"
   ]
  },
  {
   "cell_type": "code",
   "execution_count": 3,
   "metadata": {},
   "outputs": [],
   "source": [
    "doc_path='./data'\n",
    "confimed_path=doc_path+'/confimed.csv'\n",
    "cure_path=doc_path+'/cure.csv'\n",
    "died_path=doc_path+'/died.csv'\n",
    "\n",
    "missing_values = [\"n/a\", \"na\", \"--\"]\n",
    "\n",
    "confime=pd.read_csv(confimed_path)\n",
    "died=pd.read_csv(died_path)\n",
    "cure=pd.read_csv(cure_path)"
   ]
  },
  {
   "cell_type": "code",
   "execution_count": 4,
   "metadata": {},
   "outputs": [
    {
     "data": {
      "text/plain": [
       "876"
      ]
     },
     "execution_count": 4,
     "metadata": {},
     "output_type": "execute_result"
    }
   ],
   "source": [
    "confime.index.size\n",
    "confime.columns.size"
   ]
  },
  {
   "cell_type": "code",
   "execution_count": 6,
   "metadata": {
    "code_folding": []
   },
   "outputs": [],
   "source": [
    "def get_city_case(city,model,confime):\n",
    "    #China France Germany,Korea, North\n",
    "    confime_total=confime[confime['Country/Region']==city]\n",
    "    # confime_total=confime\n",
    "    if model=='confime'or model=='died':\n",
    "        clip=-7\n",
    "    elif model=='cure':\n",
    "        clip=-311\n",
    "    columns=confime_total.columns[4:clip].values\n",
    "    loc=confime_total.loc[:,columns].sum()\n",
    "    year_mouth=np.zeros((columns.size))\n",
    "    day=np.zeros((columns.size))\n",
    "    column=np.zeros((columns.size))\n",
    "\n",
    "    for index,i in enumerate(columns):\n",
    "        b=columns[index].split(r'/')\n",
    "        if len(b[0])==1:\n",
    "            year_mouth[index]='20'+b[2]+'0'+b[0]\n",
    "        else:\n",
    "             year_mouth[index]='20'+b[2]+b[0]\n",
    "        day[index]=b[1]\n",
    "    confime_sum=pd.DataFrame([loc.values,year_mouth,day],index=['People','Year_Mouth','Day'])\n",
    "    confime_sum=pd.DataFrame(confime_sum.values.T,index=confime_sum.columns,columns=confime_sum.index)\n",
    "    china_dict=confime_sum.groupby('Year_Mouth')\n",
    "    y_value=china_dict.agg(np.mean)[\"People\"].values\n",
    "    return y_value,confime_sum\n",
    "city='China'\n",
    "model='confime'\n",
    "y_value,confime_sum=get_city_case(city,model,confime)"
   ]
  },
  {
   "cell_type": "code",
   "execution_count": 8,
   "metadata": {},
   "outputs": [
    {
     "data": {
      "text/plain": [
       "array([5.480000e+02, 6.430000e+02, 9.200000e+02, 1.406000e+03,\n",
       "       2.075000e+03, 2.877000e+03, 5.509000e+03, 6.087000e+03,\n",
       "       8.141000e+03, 9.802000e+03, 1.189100e+04, 1.663000e+04,\n",
       "       1.971600e+04, 2.370700e+04, 2.744000e+04, 3.058700e+04,\n",
       "       3.411000e+04, 3.681400e+04, 3.982900e+04, 4.235400e+04,\n",
       "       4.438600e+04, 4.475900e+04, 5.989500e+04, 6.635800e+04,\n",
       "       6.841300e+04, 7.051300e+04, 7.243400e+04, 7.421100e+04,\n",
       "       7.461900e+04, 7.507700e+04, 7.555000e+04, 7.700100e+04,\n",
       "       7.702200e+04, 7.724100e+04, 7.775400e+04, 7.816600e+04,\n",
       "       7.860000e+04, 7.892800e+04, 7.935600e+04, 7.993200e+04,\n",
       "       8.013600e+04, 8.026100e+04, 8.038600e+04, 8.053700e+04,\n",
       "       8.069000e+04, 8.077000e+04, 8.082300e+04, 8.086000e+04,\n",
       "       8.088700e+04, 8.092100e+04, 8.093200e+04, 8.094500e+04,\n",
       "       8.097700e+04, 8.100300e+04, 8.103300e+04, 8.105800e+04,\n",
       "       8.110200e+04, 8.115600e+04, 8.125000e+04, 8.130500e+04,\n",
       "       8.143500e+04, 8.149300e+04, 8.158700e+04, 8.165800e+04,\n",
       "       8.178100e+04, 8.187200e+04, 8.196400e+04, 8.205800e+04,\n",
       "       8.213900e+04, 8.378600e+04, 8.400200e+04, 8.412900e+04,\n",
       "       8.426500e+04, 8.436300e+04, 8.446700e+04, 8.461100e+04,\n",
       "       8.469200e+04, 8.490900e+04, 8.502400e+04, 8.511500e+04,\n",
       "       8.520800e+04, 8.537700e+04, 8.548900e+04, 8.556900e+04,\n",
       "       8.566800e+04, 8.577400e+04, 8.618700e+04, 8.625800e+04,\n",
       "       8.632100e+04, 8.638200e+04, 8.645200e+04, 8.650800e+04,\n",
       "       8.654800e+04, 8.659400e+04, 8.663200e+04, 8.666100e+04,\n",
       "       8.669200e+04, 8.675400e+04, 8.678300e+04, 8.682800e+04,\n",
       "       8.685000e+04, 8.685800e+04, 8.684200e+04, 8.683800e+04,\n",
       "       8.685500e+04, 8.687700e+04, 8.688800e+04, 8.690500e+04,\n",
       "       8.693400e+04, 8.697300e+04, 8.698000e+04, 8.700200e+04,\n",
       "       8.701600e+04, 8.703200e+04, 8.705200e+04, 8.707000e+04,\n",
       "       8.709200e+04, 8.711900e+04, 8.713500e+04, 8.715100e+04,\n",
       "       8.719000e+04, 8.723500e+04, 8.726600e+04, 8.731300e+04,\n",
       "       8.736000e+04, 8.739000e+04, 8.742100e+04, 8.744400e+04,\n",
       "       8.746600e+04, 8.747500e+04, 8.749600e+04, 8.752000e+04,\n",
       "       8.753500e+04, 8.753800e+04, 8.755300e+04, 8.756100e+04,\n",
       "       8.757200e+04, 8.758100e+04, 8.758700e+04, 8.761000e+04,\n",
       "       8.762600e+04, 8.763600e+04, 8.764800e+04, 8.771300e+04,\n",
       "       8.776900e+04, 8.783000e+04, 8.788000e+04, 8.792100e+04,\n",
       "       8.796500e+04, 8.797100e+04, 8.803400e+04, 8.805700e+04,\n",
       "       8.811500e+04, 8.815000e+04, 8.817200e+04, 8.820100e+04,\n",
       "       8.822900e+04, 8.825800e+04, 8.827700e+04, 8.830500e+04,\n",
       "       8.831100e+04, 8.834400e+04, 8.836000e+04, 8.837200e+04,\n",
       "       8.839500e+04, 8.841500e+04, 8.844400e+04, 8.848500e+04,\n",
       "       8.852400e+04, 8.857100e+04, 8.861200e+04, 8.865700e+04,\n",
       "       8.870800e+04, 8.876600e+04, 8.882800e+04, 8.885200e+04,\n",
       "       8.893500e+04, 8.901500e+04, 8.910900e+04, 8.928000e+04,\n",
       "       8.937600e+04, 8.945400e+04, 8.961400e+04, 8.976800e+04,\n",
       "       8.995700e+04, 9.019200e+04, 9.043200e+04, 9.065800e+04,\n",
       "       9.087500e+04, 9.107400e+04, 9.135900e+04, 9.150000e+04,\n",
       "       9.169000e+04, 9.186400e+04, 9.198300e+04, 9.210900e+04,\n",
       "       9.225500e+04, 9.240600e+04, 9.254000e+04, 9.264600e+04,\n",
       "       9.277800e+04, 9.291900e+04, 9.298600e+04, 9.309100e+04,\n",
       "       9.321000e+04, 9.330800e+04, 9.339200e+04, 9.350300e+04,\n",
       "       9.360500e+04, 9.367500e+04, 9.372000e+04, 9.378200e+04,\n",
       "       9.385100e+04, 9.392200e+04, 9.397800e+04, 9.402700e+04,\n",
       "       9.407700e+04, 9.411800e+04, 9.416600e+04, 9.420200e+04,\n",
       "       9.423600e+04, 9.427200e+04, 9.431000e+04, 9.436300e+04,\n",
       "       9.440200e+04, 9.444500e+04, 9.449100e+04, 9.451600e+04,\n",
       "       9.456500e+04, 9.460100e+04, 9.462100e+04, 9.464100e+04,\n",
       "       9.468300e+04, 9.472200e+04, 9.475200e+04, 9.485100e+04,\n",
       "       9.491100e+04, 9.493400e+04, 9.496600e+04, 9.502100e+04,\n",
       "       9.505600e+04, 9.510300e+04, 9.515900e+04, 9.519600e+04,\n",
       "       9.522900e+04, 9.525400e+04, 9.528900e+04, 9.532300e+04,\n",
       "       9.536800e+04, 9.541600e+04, 9.545200e+04, 9.549900e+04,\n",
       "       9.553600e+04, 9.556800e+04, 9.561700e+04, 9.564800e+04,\n",
       "       9.569400e+04, 9.574400e+04, 9.578900e+04, 9.582900e+04,\n",
       "       9.587500e+04, 9.591300e+04, 9.597900e+04, 9.603400e+04,\n",
       "       9.608300e+04, 9.612400e+04, 9.614600e+04, 9.620300e+04,\n",
       "       9.623100e+04, 9.627100e+04, 9.632200e+04, 9.638900e+04,\n",
       "       9.642700e+04, 9.646100e+04, 9.651400e+04, 9.655700e+04,\n",
       "       9.660200e+04, 9.664300e+04, 9.682600e+04, 9.692100e+04,\n",
       "       9.698400e+04, 9.700400e+04, 9.709700e+04, 9.715300e+04,\n",
       "       9.725000e+04, 9.733300e+04, 9.741100e+04, 9.756500e+04,\n",
       "       9.762200e+04, 9.768400e+04, 9.774000e+04, 9.781600e+04,\n",
       "       9.785200e+04, 9.790200e+04, 9.794800e+04, 9.798000e+04,\n",
       "       9.801800e+04, 9.804500e+04, 9.806900e+04, 9.810400e+04,\n",
       "       9.812600e+04, 9.815000e+04, 9.818500e+04, 9.824000e+04,\n",
       "       9.831800e+04, 9.840700e+04, 9.851100e+04, 9.859800e+04,\n",
       "       9.870900e+04, 9.879600e+04, 9.890200e+04, 9.900000e+04,\n",
       "       9.914200e+04, 9.924500e+04, 9.933600e+04, 9.945800e+04,\n",
       "       9.957000e+04, 9.970900e+04, 9.983900e+04, 9.994500e+04,\n",
       "       1.000430e+05, 1.001590e+05, 1.002750e+05, 1.004050e+05,\n",
       "       1.005090e+05, 1.006170e+05, 1.007370e+05, 1.008440e+05,\n",
       "       1.009590e+05, 1.010560e+05, 1.011700e+05, 1.012670e+05,\n",
       "       1.014150e+05, 1.015210e+05, 1.016350e+05, 1.017280e+05,\n",
       "       1.018110e+05, 1.019090e+05, 1.020020e+05, 1.021020e+05,\n",
       "       1.022070e+05, 1.023110e+05, 1.023890e+05, 1.024810e+05,\n",
       "       1.025710e+05, 1.026490e+05, 1.027310e+05, 1.028080e+05,\n",
       "       1.029300e+05, 1.030260e+05, 1.031700e+05, 1.033310e+05,\n",
       "       1.034610e+05, 1.036260e+05, 1.037540e+05, 1.038950e+05,\n",
       "       1.041460e+05, 1.043220e+05, 1.045630e+05, 1.047770e+05,\n",
       "       1.049950e+05, 1.052460e+05, 1.055250e+05, 1.057150e+05,\n",
       "       1.059550e+05, 1.061930e+05, 1.064530e+05, 1.066830e+05,\n",
       "       1.069540e+05, 1.070690e+05, 1.072300e+05, 1.074020e+05,\n",
       "       1.075100e+05, 1.076420e+05, 1.077710e+05, 1.078270e+05,\n",
       "       1.079020e+05, 1.079610e+05, 1.080120e+05, 1.080600e+05,\n",
       "       1.081350e+05, 1.081740e+05, 1.082260e+05, 1.082880e+05,\n",
       "       1.083420e+05, 1.083650e+05, 1.084140e+05, 1.084500e+05,\n",
       "       1.084820e+05, 1.085190e+05, 1.085510e+05, 1.085750e+05,\n",
       "       1.086070e+05, 1.086450e+05, 1.086740e+05, 1.087070e+05,\n",
       "       1.087430e+05, 1.087750e+05, 1.088070e+05, 1.088390e+05,\n",
       "       1.088660e+05, 1.089060e+05, 1.089500e+05, 1.089970e+05,\n",
       "       1.090340e+05, 1.090610e+05, 1.091010e+05, 1.091310e+05,\n",
       "       1.091620e+05, 1.092070e+05, 1.092480e+05, 1.092800e+05,\n",
       "       1.093150e+05, 1.093500e+05, 1.093900e+05, 1.094640e+05,\n",
       "       1.095380e+05, 1.095770e+05, 1.096280e+05, 1.096550e+05,\n",
       "       1.096860e+05, 1.097130e+05, 1.097350e+05, 1.097620e+05,\n",
       "       1.097810e+05, 1.098150e+05, 1.098500e+05, 1.098780e+05,\n",
       "       1.099060e+05, 1.099600e+05, 1.100010e+05, 1.100290e+05,\n",
       "       1.100600e+05, 1.100810e+05, 1.101090e+05, 1.101690e+05,\n",
       "       1.102350e+05, 1.102730e+05, 1.103270e+05, 1.103820e+05,\n",
       "       1.104050e+05, 1.104420e+05, 1.104740e+05, 1.105130e+05,\n",
       "       1.105360e+05, 1.105870e+05, 1.106190e+05, 1.106580e+05,\n",
       "       1.106830e+05, 1.107150e+05, 1.107780e+05, 1.108290e+05,\n",
       "       1.108810e+05, 1.109160e+05, 1.109520e+05, 1.109660e+05,\n",
       "       1.110140e+05, 1.110530e+05, 1.110790e+05, 1.111100e+05,\n",
       "       1.111420e+05, 1.111720e+05, 1.112110e+05, 1.112520e+05,\n",
       "       1.112900e+05, 1.113250e+05, 1.113540e+05, 1.113850e+05,\n",
       "       1.114110e+05, 1.114310e+05, 1.114510e+05, 1.114780e+05,\n",
       "       1.115010e+05, 1.115220e+05, 1.115580e+05, 1.115960e+05,\n",
       "       1.116140e+05, 1.116370e+05, 1.116740e+05, 1.117200e+05,\n",
       "       1.117660e+05, 1.118030e+05, 1.118320e+05, 1.118570e+05,\n",
       "       1.118970e+05, 1.119330e+05, 1.119750e+05, 1.120140e+05,\n",
       "       1.120510e+05, 1.120820e+05, 1.121130e+05, 1.121410e+05,\n",
       "       1.121830e+05, 1.122070e+05, 1.122560e+05, 1.122860e+05,\n",
       "       1.123290e+05, 1.123680e+05, 1.124070e+05, 1.124500e+05,\n",
       "       1.125030e+05, 1.125390e+05, 1.125970e+05, 1.126200e+05,\n",
       "       1.126530e+05, 1.127020e+05, 1.127580e+05, 1.128200e+05,\n",
       "       1.128540e+05, 1.128960e+05, 1.129430e+05, 1.129970e+05,\n",
       "       1.130400e+05, 1.130940e+05, 1.131570e+05, 1.131860e+05,\n",
       "       1.132290e+05, 1.132780e+05, 1.133050e+05, 1.133470e+05,\n",
       "       1.133940e+05, 1.134310e+05, 1.134780e+05, 1.135190e+05,\n",
       "       1.135550e+05, 1.135770e+05, 1.136140e+05, 1.136670e+05,\n",
       "       1.136940e+05, 1.137350e+05, 1.137710e+05, 1.138540e+05,\n",
       "       1.139100e+05, 1.139430e+05, 1.139920e+05, 1.140060e+05,\n",
       "       1.140740e+05, 1.141120e+05, 1.141560e+05, 1.141930e+05,\n",
       "       1.142360e+05, 1.142860e+05, 1.143300e+05, 1.143860e+05,\n",
       "       1.144640e+05, 1.144890e+05, 1.145890e+05, 1.146480e+05,\n",
       "       1.147110e+05, 1.147630e+05, 1.148530e+05, 1.149350e+05,\n",
       "       1.150320e+05, 1.150900e+05, 1.151700e+05, 1.152480e+05,\n",
       "       1.153410e+05, 1.154730e+05, 1.156190e+05, 1.157600e+05,\n",
       "       1.158540e+05, 1.160370e+05, 1.161980e+05, 1.163270e+05,\n",
       "       1.164600e+05, 1.166010e+05, 1.167100e+05, 1.168030e+05,\n",
       "       1.169440e+05, 1.170160e+05, 1.170830e+05, 1.171600e+05,\n",
       "       1.172160e+05, 1.172630e+05, 1.173290e+05, 1.173910e+05,\n",
       "       1.174410e+05, 1.174930e+05, 1.175380e+05, 1.175910e+05,\n",
       "       1.176220e+05, 1.176610e+05, 1.177110e+05, 1.177680e+05,\n",
       "       1.178130e+05, 1.178590e+05, 1.179190e+05, 1.179500e+05,\n",
       "       1.179910e+05, 1.180370e+05, 1.180820e+05, 1.181260e+05,\n",
       "       1.181720e+05, 1.182230e+05, 1.182550e+05, 1.182960e+05,\n",
       "       1.183210e+05, 1.183710e+05, 1.184370e+05, 1.185280e+05,\n",
       "       1.186460e+05, 1.187240e+05, 1.188080e+05, 1.188920e+05,\n",
       "       1.189580e+05, 1.190380e+05, 1.191010e+05, 1.191880e+05,\n",
       "       1.192390e+05, 1.192900e+05, 1.193600e+05, 1.194180e+05,\n",
       "       1.194710e+05, 1.195260e+05, 1.195780e+05, 1.196240e+05,\n",
       "       1.196700e+05, 1.197260e+05, 1.197900e+05, 1.198320e+05,\n",
       "       1.198720e+05, 1.199160e+05, 1.199650e+05, 1.200070e+05,\n",
       "       1.200480e+05, 1.200810e+05, 1.201020e+05, 1.201690e+05,\n",
       "       1.201950e+05, 1.202340e+05, 1.202780e+05, 1.203040e+05,\n",
       "       1.203490e+05, 1.203890e+05, 1.204260e+05, 1.204600e+05,\n",
       "       1.205070e+05, 1.205500e+05, 1.206290e+05, 1.207010e+05,\n",
       "       1.207650e+05, 1.208170e+05, 1.208720e+05, 1.209540e+05,\n",
       "       1.210150e+05, 1.211020e+05, 1.212000e+05, 1.212920e+05,\n",
       "       1.213960e+05, 1.214770e+05, 1.215930e+05, 1.217140e+05,\n",
       "       1.218270e+05, 1.219250e+05, 1.220220e+05, 1.221410e+05,\n",
       "       1.222280e+05, 1.223450e+05, 1.224450e+05, 1.225630e+05,\n",
       "       1.226580e+05, 1.227500e+05, 1.228260e+05, 1.228550e+05,\n",
       "       1.228950e+05, 1.229460e+05, 1.229940e+05, 1.230410e+05,\n",
       "       1.230760e+05, 1.231230e+05, 1.231690e+05, 1.232120e+05,\n",
       "       1.232520e+05, 1.232930e+05, 1.233390e+05, 1.233760e+05,\n",
       "       1.234410e+05, 1.235010e+05, 1.236380e+05, 1.237250e+05,\n",
       "       1.238390e+05, 1.239560e+05, 1.240340e+05, 1.241230e+05,\n",
       "       1.242620e+05, 1.243460e+05, 1.244470e+05, 1.245490e+05,\n",
       "       1.246730e+05, 1.247510e+05, 1.248560e+05, 1.249250e+05,\n",
       "       1.250120e+05, 1.251120e+05, 1.252160e+05, 1.253630e+05,\n",
       "       1.254750e+05, 1.256230e+05, 1.256950e+05, 1.258350e+05,\n",
       "       1.259580e+05, 1.260650e+05, 1.262330e+05, 1.263190e+05,\n",
       "       1.265590e+05, 1.269370e+05, 1.271610e+05, 1.273900e+05,\n",
       "       1.276230e+05, 1.278960e+05, 1.281320e+05, 1.282590e+05,\n",
       "       1.285960e+05, 1.287710e+05, 1.290640e+05, 1.292800e+05,\n",
       "       1.294910e+05, 1.297380e+05, 1.299590e+05, 1.302130e+05,\n",
       "       1.304970e+05, 1.307370e+05, 1.309770e+05, 1.311840e+05,\n",
       "       1.313270e+05, 1.316010e+05, 1.317960e+05, 1.319280e+05,\n",
       "       1.320430e+05, 1.321480e+05, 1.322640e+05, 1.323830e+05,\n",
       "       1.325970e+05, 1.327720e+05, 1.329780e+05, 1.332090e+05,\n",
       "       1.334840e+05, 1.337090e+05, 1.339390e+05, 1.341390e+05,\n",
       "       1.343450e+05, 1.345640e+05, 1.347450e+05, 1.350080e+05,\n",
       "       1.352160e+05, 1.356630e+05, 1.361150e+05, 1.368800e+05,\n",
       "       1.376480e+05, 1.388550e+05, 1.399680e+05, 1.414480e+05,\n",
       "       1.430600e+05, 1.445190e+05, 1.467000e+05, 1.484610e+05,\n",
       "       1.528560e+05, 1.590830e+05, 1.628890e+05, 1.691700e+05,\n",
       "       1.754170e+05, 1.831140e+05, 1.895650e+05, 1.984780e+05,\n",
       "       2.075990e+05, 2.179320e+05, 2.927920e+05, 3.440320e+05,\n",
       "       4.005690e+05, 4.565820e+05, 5.332950e+05, 6.106970e+05,\n",
       "       6.837910e+05, 7.518440e+05, 7.921630e+05, 8.293060e+05,\n",
       "       8.688180e+05, 8.999450e+05, 9.326960e+05, 9.633020e+05,\n",
       "       9.925690e+05, 1.028437e+06, 1.057573e+06, 1.090400e+06,\n",
       "       1.123895e+06, 1.147435e+06, 1.171570e+06, 1.193563e+06,\n",
       "       1.210422e+06, 1.228883e+06, 1.249958e+06, 1.266606e+06,\n",
       "       1.283788e+06, 1.299036e+06, 1.313471e+06, 1.327092e+06,\n",
       "       1.340972e+06, 1.355883e+06, 1.371807e+06, 1.385495e+06,\n",
       "       1.400358e+06, 1.414142e+06, 1.430893e+06, 1.446956e+06,\n",
       "       1.466859e+06, 1.490014e+06, 1.515913e+06, 1.541981e+06,\n",
       "       1.569185e+06, 1.597094e+06, 1.626085e+06, 1.652078e+06,\n",
       "       1.682737e+06, 1.713300e+06, 1.738527e+06, 1.762757e+06,\n",
       "       1.787635e+06, 1.811382e+06, 1.832597e+06, 1.849430e+06,\n",
       "       1.869000e+06, 1.888027e+06, 1.911669e+06, 1.933414e+06,\n",
       "       1.953258e+06, 1.970377e+06, 1.983788e+06, 1.994593e+06,\n",
       "       2.005524e+06, 2.015624e+06, 2.024284e+06, 2.031342e+06,\n",
       "       2.037518e+06, 2.043178e+06, 2.048423e+06, 2.053250e+06,\n",
       "       2.057995e+06, 2.062668e+06, 2.066938e+06, 2.070480e+06,\n",
       "       2.072376e+06, 2.074583e+06, 2.077182e+06, 2.079353e+06,\n",
       "       2.081192e+06, 2.082624e+06, 2.084058e+06, 2.085584e+06,\n",
       "       2.086877e+06, 2.088229e+06, 2.089569e+06, 2.090677e+06,\n",
       "       2.091649e+06, 2.092491e+06, 2.093305e+06, 2.094030e+06,\n",
       "       2.094679e+06, 2.095275e+06, 2.095730e+06, 2.096200e+06,\n",
       "       2.096684e+06, 2.097282e+06, 2.097925e+06, 2.098595e+06,\n",
       "       2.099041e+06])"
      ]
     },
     "execution_count": 8,
     "metadata": {},
     "output_type": "execute_result"
    }
   ],
   "source": [
    "a=confime_sum['People'].values[1:]\n",
    "b=confime_sum['People'].values[:-1]\n",
    "result=[i-j for i,j in zip(a,b)]\n",
    "np.append(b,confime_sum['People'].values[-1])\n",
    "# pd.read_csvsult"
   ]
  },
  {
   "cell_type": "code",
   "execution_count": 9,
   "metadata": {},
   "outputs": [
    {
     "data": {
      "image/png": "[encoded data removed]",
      "text/plain": [
       "<Figure size 2160x1080 with 1 Axes>"
      ]
     },
     "metadata": {
      "needs_background": "light"
     },
     "output_type": "display_data"
    }
   ],
   "source": [
    "# china_dict=confime_sum.groupby('Year_Mouth')\n",
    "# # print('china_dict',china_dict)\n",
    "# y_value=china_dict.agg(np.mean)[\"People\"].values\n",
    "# print(y_value)\n",
    "\n",
    "# ax = plt.gca()   #表明设置图片的各个轴，plt.gcf()表示图片本身\n",
    "plt.figure(figsize=(30,15))\n",
    "plt.gca().xaxis.set_major_formatter(mdate.DateFormatter('%Y-%m'))\n",
    "# ax.xaxis.set_major_formatter(mdate.DateFormatter('%Y-%M'))  # 横坐标标签显示的日期格式\n",
    "if model=='confime'or model=='died':\n",
    "    time=pd.date_range(start='2020-1',end='2022-7',freq='M')\n",
    "    plt.title(f\"Change curve of the number of {model} cases in {city} from January 2020 to June 2022\",fontsize=30)\n",
    "elif model=='cure':\n",
    "    time=pd.date_range(start='2020-1',end='2021-9',freq='M')\n",
    "    plt.title(f\"Change curve of the number of {model} cases in {city} from January 2020 to September 2021\",fontsize=30)\n",
    "plt.xticks(time) #横坐标日期范围及间隔\n",
    "plt.yticks(y_value)  #设置纵坐标，使用range()函数设置起始、结束范围及间隔步长\n",
    "\n",
    "plt.xlabel(\"Time\",fontsize=30)#x轴上的名字\n",
    "plt.ylabel(f\"Number of {model} cases\",fontsize=30)#y轴上的名字\n",
    "\n",
    "plt.plot(time,y_value)\n",
    "\n",
    "min_num=y_value.min()\n",
    "max_num=y_value.max()\n",
    "# ax = plt.gca()\n",
    "# ax.set_ylim(0,5)\n",
    "# ax.set_ylim(min_num,max_num)\n",
    "# plt.ylim((min_num-1000000, max_num))\n",
    "\n",
    "save_path=f'./img/{model}/'+city+f'_{model}.png'\n",
    "plt.savefig(save_path)\n",
    "plt.show()\n"
   ]
  },
  {
   "cell_type": "code",
   "execution_count": 10,
   "metadata": {},
   "outputs": [
    {
     "ename": "NameError",
     "evalue": "name 'confime_china_sum' is not defined",
     "output_type": "error",
     "traceback": [
      "\u001b[1;31m---------------------------------------------------------------------------\u001b[0m",
      "\u001b[1;31mNameError\u001b[0m                                 Traceback (most recent call last)",
      "\u001b[1;32m~\\AppData\\Local\\Temp\\ipykernel_36804\\3538564913.py\u001b[0m in \u001b[0;36m<module>\u001b[1;34m\u001b[0m\n\u001b[0;32m      1\u001b[0m \u001b[1;31m# df1=pd.DataFrame(y_value,columns=['累计确诊'])\u001b[0m\u001b[1;33m\u001b[0m\u001b[1;33m\u001b[0m\u001b[1;33m\u001b[0m\u001b[0m\n\u001b[0;32m      2\u001b[0m \u001b[1;31m# 疫情高峰时期\u001b[0m\u001b[1;33m\u001b[0m\u001b[1;33m\u001b[0m\u001b[1;33m\u001b[0m\u001b[0m\n\u001b[1;32m----> 3\u001b[1;33m \u001b[0mdf1\u001b[0m\u001b[1;33m=\u001b[0m\u001b[0mconfime_china_sum\u001b[0m\u001b[1;33m\u001b[0m\u001b[1;33m\u001b[0m\u001b[0m\n\u001b[0m\u001b[0;32m      4\u001b[0m \u001b[0ma\u001b[0m \u001b[1;33m=\u001b[0m \u001b[1;33m(\u001b[0m\u001b[0mdf1\u001b[0m\u001b[1;33m[\u001b[0m\u001b[1;34m'People'\u001b[0m\u001b[1;33m]\u001b[0m \u001b[1;33m-\u001b[0m \u001b[0mdf1\u001b[0m\u001b[1;33m.\u001b[0m\u001b[0mshift\u001b[0m\u001b[1;33m(\u001b[0m\u001b[1;36m1\u001b[0m\u001b[1;33m)\u001b[0m\u001b[1;33m[\u001b[0m\u001b[1;34m'People'\u001b[0m\u001b[1;33m]\u001b[0m\u001b[1;33m)\u001b[0m\u001b[1;33m.\u001b[0m\u001b[0miloc\u001b[0m\u001b[1;33m[\u001b[0m\u001b[1;36m1\u001b[0m\u001b[1;33m:\u001b[0m\u001b[1;33m]\u001b[0m\u001b[1;33m.\u001b[0m\u001b[0mtolist\u001b[0m\u001b[1;33m(\u001b[0m\u001b[1;33m)\u001b[0m\u001b[1;33m\u001b[0m\u001b[1;33m\u001b[0m\u001b[0m\n\u001b[0;32m      5\u001b[0m \u001b[0mdf1\u001b[0m\u001b[1;33m.\u001b[0m\u001b[0miloc\u001b[0m\u001b[1;33m[\u001b[0m\u001b[0ma\u001b[0m\u001b[1;33m.\u001b[0m\u001b[0mindex\u001b[0m\u001b[1;33m(\u001b[0m\u001b[0mmax\u001b[0m\u001b[1;33m(\u001b[0m\u001b[1;33m(\u001b[0m\u001b[0mdf1\u001b[0m\u001b[1;33m[\u001b[0m\u001b[1;34m'People'\u001b[0m\u001b[1;33m]\u001b[0m \u001b[1;33m-\u001b[0m \u001b[0mdf1\u001b[0m\u001b[1;33m.\u001b[0m\u001b[0mshift\u001b[0m\u001b[1;33m(\u001b[0m\u001b[1;36m1\u001b[0m\u001b[1;33m)\u001b[0m\u001b[1;33m[\u001b[0m\u001b[1;34m'People'\u001b[0m\u001b[1;33m]\u001b[0m\u001b[1;33m)\u001b[0m\u001b[1;33m.\u001b[0m\u001b[0miloc\u001b[0m\u001b[1;33m[\u001b[0m\u001b[1;36m1\u001b[0m\u001b[1;33m:\u001b[0m\u001b[1;33m]\u001b[0m\u001b[1;33m)\u001b[0m\u001b[1;33m)\u001b[0m\u001b[1;33m]\u001b[0m\u001b[1;33m\u001b[0m\u001b[1;33m\u001b[0m\u001b[0m\n",
      "\u001b[1;31mNameError\u001b[0m: name 'confime_china_sum' is not defined"
     ]
    }
   ],
   "source": [
    "# df1=pd.DataFrame(y_value,columns=['累计确诊'])\n",
    "# 疫情高峰时期\n",
    "df1=confime_china_sum\n",
    "a = (df1['People'] - df1.shift(1)['People']).iloc[1:].tolist()\n",
    "df1.iloc[a.index(max((df1['People'] - df1.shift(1)['People']).iloc[1:]))]"
   ]
  },
  {
   "cell_type": "code",
   "execution_count": 21,
   "metadata": {},
   "outputs": [
    {
     "name": "stdout",
     "output_type": "stream",
     "text": [
      "30 30 30\n"
     ]
    }
   ],
   "source": [
    "city='China'\n",
    "confime_china,_=get_city_case(city,'confime',confime)\n",
    "model='confime'# died ,cure\n",
    "died_china,_=get_city_case(city,'confime',died)\n",
    "cure_chia,_=get_city_case(city,'confime',cure)\n",
    "print(len(confime_china),len(died_china),len(cure_chia))"
   ]
  },
  {
   "cell_type": "code",
   "execution_count": 23,
   "metadata": {},
   "outputs": [
    {
     "name": "stdout",
     "output_type": "stream",
     "text": [
      "[   3800.8          56322.79310345   81185.06451613   85675.4\n",
      "   87113.70967742   87870.83333333   89320.35483871   93310.35483871\n",
      "   94945.5          96278.96774194   98155.6         101031.61290323\n",
      "  105140.61290323  108499.          109597.          110755.43333333\n",
      "  111775.90322581  112967.53333333  114364.25806452  117019.67741935\n",
      "  118836.53333333  120458.61290323  122722.16666667  125418.\n",
      "  131340.64516129  176512.35714286 1056815.93548387 1728506.56666667\n",
      " 2075433.         2098210.75      ] [   88.9         1600.5862069   3177.03225806  3943.\n",
      "  4637.51612903  4638.8         4646.16129032  4698.09677419\n",
      "  4734.36666667  4739.          4741.53333333  4758.35483871\n",
      "  4797.77419355  4828.07142857  4838.87096774  4843.56666667\n",
      "  4846.          4846.2         4847.96774194  4848.\n",
      "  4848.6         4849.          4849.          4849.\n",
      "  4849.          4937.60714286  9293.12903226 13601.93333333\n",
      " 14555.12903226 14606.75      ]\n"
     ]
    },
    {
     "ename": "ValueError",
     "evalue": "x and y must have same first dimension, but have shapes (12,) and (30,)",
     "output_type": "error",
     "traceback": [
      "\u001b[1;31m---------------------------------------------------------------------------\u001b[0m",
      "\u001b[1;31mValueError\u001b[0m                                Traceback (most recent call last)",
      "\u001b[1;32m~\\AppData\\Local\\Temp\\ipykernel_36804\\212313173.py\u001b[0m in \u001b[0;36m<module>\u001b[1;34m\u001b[0m\n\u001b[0;32m      2\u001b[0m \u001b[0mtime\u001b[0m\u001b[1;33m=\u001b[0m\u001b[0mpd\u001b[0m\u001b[1;33m.\u001b[0m\u001b[0mdate_range\u001b[0m\u001b[1;33m(\u001b[0m\u001b[0mstart\u001b[0m\u001b[1;33m=\u001b[0m\u001b[1;34m'2020-1'\u001b[0m\u001b[1;33m,\u001b[0m\u001b[0mend\u001b[0m\u001b[1;33m=\u001b[0m\u001b[1;34m'2021-1'\u001b[0m\u001b[1;33m,\u001b[0m\u001b[0mfreq\u001b[0m\u001b[1;33m=\u001b[0m\u001b[1;34m'M'\u001b[0m\u001b[1;33m)\u001b[0m\u001b[1;33m\u001b[0m\u001b[1;33m\u001b[0m\u001b[0m\n\u001b[0;32m      3\u001b[0m \u001b[0mprint\u001b[0m\u001b[1;33m(\u001b[0m\u001b[0mconfime_china\u001b[0m\u001b[1;33m,\u001b[0m\u001b[0mdied_china\u001b[0m\u001b[1;33m)\u001b[0m\u001b[1;33m\u001b[0m\u001b[1;33m\u001b[0m\u001b[0m\n\u001b[1;32m----> 4\u001b[1;33m \u001b[0max\u001b[0m\u001b[1;33m.\u001b[0m\u001b[0mplot\u001b[0m\u001b[1;33m(\u001b[0m\u001b[0mtime\u001b[0m\u001b[1;33m,\u001b[0m \u001b[0mconfime_china\u001b[0m\u001b[1;33m,\u001b[0m \u001b[0mlabel\u001b[0m\u001b[1;33m=\u001b[0m\u001b[1;34m'Cumulative diagnosis'\u001b[0m\u001b[1;33m)\u001b[0m\u001b[1;33m\u001b[0m\u001b[1;33m\u001b[0m\u001b[0m\n\u001b[0m\u001b[0;32m      5\u001b[0m \u001b[0max\u001b[0m\u001b[1;33m.\u001b[0m\u001b[0mplot\u001b[0m\u001b[1;33m(\u001b[0m\u001b[0mtime\u001b[0m\u001b[1;33m,\u001b[0m \u001b[0mdied_china\u001b[0m\u001b[1;33m,\u001b[0m \u001b[0mlabel\u001b[0m\u001b[1;33m=\u001b[0m\u001b[1;34m'Death toll'\u001b[0m\u001b[1;33m)\u001b[0m\u001b[1;33m\u001b[0m\u001b[1;33m\u001b[0m\u001b[0m\n\u001b[0;32m      6\u001b[0m \u001b[0max\u001b[0m\u001b[1;33m.\u001b[0m\u001b[0mplot\u001b[0m\u001b[1;33m(\u001b[0m\u001b[0mtime\u001b[0m\u001b[1;33m,\u001b[0m \u001b[0mcure_chia\u001b[0m\u001b[1;33m,\u001b[0m \u001b[0mlabel\u001b[0m\u001b[1;33m=\u001b[0m\u001b[1;34m'Number of patients cured'\u001b[0m\u001b[1;33m)\u001b[0m\u001b[1;33m\u001b[0m\u001b[1;33m\u001b[0m\u001b[0m\n",
      "\u001b[1;32mc:\\miniconda\\lib\\site-packages\\matplotlib\\axes\\_axes.py\u001b[0m in \u001b[0;36mplot\u001b[1;34m(self, scalex, scaley, data, *args, **kwargs)\u001b[0m\n\u001b[0;32m   1741\u001b[0m         \"\"\"\n\u001b[0;32m   1742\u001b[0m         \u001b[0mkwargs\u001b[0m \u001b[1;33m=\u001b[0m \u001b[0mcbook\u001b[0m\u001b[1;33m.\u001b[0m\u001b[0mnormalize_kwargs\u001b[0m\u001b[1;33m(\u001b[0m\u001b[0mkwargs\u001b[0m\u001b[1;33m,\u001b[0m \u001b[0mmlines\u001b[0m\u001b[1;33m.\u001b[0m\u001b[0mLine2D\u001b[0m\u001b[1;33m)\u001b[0m\u001b[1;33m\u001b[0m\u001b[1;33m\u001b[0m\u001b[0m\n\u001b[1;32m-> 1743\u001b[1;33m         \u001b[0mlines\u001b[0m \u001b[1;33m=\u001b[0m \u001b[1;33m[\u001b[0m\u001b[1;33m*\u001b[0m\u001b[0mself\u001b[0m\u001b[1;33m.\u001b[0m\u001b[0m_get_lines\u001b[0m\u001b[1;33m(\u001b[0m\u001b[1;33m*\u001b[0m\u001b[0margs\u001b[0m\u001b[1;33m,\u001b[0m \u001b[0mdata\u001b[0m\u001b[1;33m=\u001b[0m\u001b[0mdata\u001b[0m\u001b[1;33m,\u001b[0m \u001b[1;33m**\u001b[0m\u001b[0mkwargs\u001b[0m\u001b[1;33m)\u001b[0m\u001b[1;33m]\u001b[0m\u001b[1;33m\u001b[0m\u001b[1;33m\u001b[0m\u001b[0m\n\u001b[0m\u001b[0;32m   1744\u001b[0m         \u001b[1;32mfor\u001b[0m \u001b[0mline\u001b[0m \u001b[1;32min\u001b[0m \u001b[0mlines\u001b[0m\u001b[1;33m:\u001b[0m\u001b[1;33m\u001b[0m\u001b[1;33m\u001b[0m\u001b[0m\n\u001b[0;32m   1745\u001b[0m             \u001b[0mself\u001b[0m\u001b[1;33m.\u001b[0m\u001b[0madd_line\u001b[0m\u001b[1;33m(\u001b[0m\u001b[0mline\u001b[0m\u001b[1;33m)\u001b[0m\u001b[1;33m\u001b[0m\u001b[1;33m\u001b[0m\u001b[0m\n",
      "\u001b[1;32mc:\\miniconda\\lib\\site-packages\\matplotlib\\axes\\_base.py\u001b[0m in \u001b[0;36m__call__\u001b[1;34m(self, data, *args, **kwargs)\u001b[0m\n\u001b[0;32m    271\u001b[0m                 \u001b[0mthis\u001b[0m \u001b[1;33m+=\u001b[0m \u001b[0margs\u001b[0m\u001b[1;33m[\u001b[0m\u001b[1;36m0\u001b[0m\u001b[1;33m]\u001b[0m\u001b[1;33m,\u001b[0m\u001b[1;33m\u001b[0m\u001b[1;33m\u001b[0m\u001b[0m\n\u001b[0;32m    272\u001b[0m                 \u001b[0margs\u001b[0m \u001b[1;33m=\u001b[0m \u001b[0margs\u001b[0m\u001b[1;33m[\u001b[0m\u001b[1;36m1\u001b[0m\u001b[1;33m:\u001b[0m\u001b[1;33m]\u001b[0m\u001b[1;33m\u001b[0m\u001b[1;33m\u001b[0m\u001b[0m\n\u001b[1;32m--> 273\u001b[1;33m             \u001b[1;32myield\u001b[0m \u001b[1;32mfrom\u001b[0m \u001b[0mself\u001b[0m\u001b[1;33m.\u001b[0m\u001b[0m_plot_args\u001b[0m\u001b[1;33m(\u001b[0m\u001b[0mthis\u001b[0m\u001b[1;33m,\u001b[0m \u001b[0mkwargs\u001b[0m\u001b[1;33m)\u001b[0m\u001b[1;33m\u001b[0m\u001b[1;33m\u001b[0m\u001b[0m\n\u001b[0m\u001b[0;32m    274\u001b[0m \u001b[1;33m\u001b[0m\u001b[0m\n\u001b[0;32m    275\u001b[0m     \u001b[1;32mdef\u001b[0m \u001b[0mget_next_color\u001b[0m\u001b[1;33m(\u001b[0m\u001b[0mself\u001b[0m\u001b[1;33m)\u001b[0m\u001b[1;33m:\u001b[0m\u001b[1;33m\u001b[0m\u001b[1;33m\u001b[0m\u001b[0m\n",
      "\u001b[1;32mc:\\miniconda\\lib\\site-packages\\matplotlib\\axes\\_base.py\u001b[0m in \u001b[0;36m_plot_args\u001b[1;34m(self, tup, kwargs)\u001b[0m\n\u001b[0;32m    397\u001b[0m \u001b[1;33m\u001b[0m\u001b[0m\n\u001b[0;32m    398\u001b[0m         \u001b[1;32mif\u001b[0m \u001b[0mx\u001b[0m\u001b[1;33m.\u001b[0m\u001b[0mshape\u001b[0m\u001b[1;33m[\u001b[0m\u001b[1;36m0\u001b[0m\u001b[1;33m]\u001b[0m \u001b[1;33m!=\u001b[0m \u001b[0my\u001b[0m\u001b[1;33m.\u001b[0m\u001b[0mshape\u001b[0m\u001b[1;33m[\u001b[0m\u001b[1;36m0\u001b[0m\u001b[1;33m]\u001b[0m\u001b[1;33m:\u001b[0m\u001b[1;33m\u001b[0m\u001b[1;33m\u001b[0m\u001b[0m\n\u001b[1;32m--> 399\u001b[1;33m             raise ValueError(f\"x and y must have same first dimension, but \"\n\u001b[0m\u001b[0;32m    400\u001b[0m                              f\"have shapes {x.shape} and {y.shape}\")\n\u001b[0;32m    401\u001b[0m         \u001b[1;32mif\u001b[0m \u001b[0mx\u001b[0m\u001b[1;33m.\u001b[0m\u001b[0mndim\u001b[0m \u001b[1;33m>\u001b[0m \u001b[1;36m2\u001b[0m \u001b[1;32mor\u001b[0m \u001b[0my\u001b[0m\u001b[1;33m.\u001b[0m\u001b[0mndim\u001b[0m \u001b[1;33m>\u001b[0m \u001b[1;36m2\u001b[0m\u001b[1;33m:\u001b[0m\u001b[1;33m\u001b[0m\u001b[1;33m\u001b[0m\u001b[0m\n",
      "\u001b[1;31mValueError\u001b[0m: x and y must have same first dimension, but have shapes (12,) and (30,)"
     ]
    },
    {
     "data": {
      "image/png": "[encoded data removed]",
      "text/plain": [
       "<Figure size 1008x504 with 1 Axes>"
      ]
     },
     "metadata": {
      "needs_background": "light"
     },
     "output_type": "display_data"
    }
   ],
   "source": [
    "fig, ax = plt.subplots(figsize=(14, 7))\n",
    "time=pd.date_range(start='2020-1',end='2021-9',freq='M')\n",
    "print(confime_china,died_china)\n",
    "ax.plot(time, confime_china, label='Cumulative diagnosis')\n",
    "ax.plot(time, died_china, label='Death toll')\n",
    "ax.plot(time, cure_chia, label='Number of patients cured')\n",
    "ax.set_xlabel('Days from discovery')\n",
    "ax.set_ylabel('Numbers')\n",
    "ax.legend(fontsize=13)\n",
    "ax.set_title(\"COVID-19's spread from 2020-01 to 2021-09\",fontsize=20)\n",
    "ax.grid(True)\n",
    "plt.savefig('./img/中国变化趋势')\n",
    "plt.show()"
   ]
  }
 ],
 "metadata": {
  "kernelspec": {
   "display_name": "Python 3 (ipykernel)",
   "language": "python",
   "name": "python3"
  },
  "language_info": {
   "codemirror_mode": {
    "name": "ipython",
    "version": 3
   },
   "file_extension": ".py",
   "mimetype": "text/x-python",
   "name": "python",
   "nbconvert_exporter": "python",
   "pygments_lexer": "ipython3",
   "version": "3.7.9"
  },
  "varInspector": {
   "cols": {
    "lenName": 16,
    "lenType": 16,
    "lenVar": 40
   },
   "kernels_config": {
    "python": {
     "delete_cmd_postfix": "",
     "delete_cmd_prefix": "del ",
     "library": "var_list.py",
     "varRefreshCmd": "print(var_dic_list())"
    },
    "r": {
     "delete_cmd_postfix": ") ",
     "delete_cmd_prefix": "rm(",
     "library": "var_list.r",
     "varRefreshCmd": "cat(var_dic_list()) "
    }
   },
   "types_to_exclude": [
    "module",
    "function",
    "builtin_function_or_method",
    "instance",
    "_Feature"
   ],
   "window_display": false
  }
 },
 "nbformat": 4,
 "nbformat_minor": 2
}
